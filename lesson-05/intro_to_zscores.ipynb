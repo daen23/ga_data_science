{
 "cells": [
  {
   "cell_type": "code",
   "execution_count": 1,
   "metadata": {
    "collapsed": true
   },
   "outputs": [],
   "source": [
    "%matplotlib inline\n",
    "import numpy as np\n",
    "import pandas as pd\n",
    "import matplotlib.pylab as plt\n",
    "import seaborn as sns\n",
    "import scipy.stats as stats"
   ]
  },
  {
   "cell_type": "markdown",
   "metadata": {},
   "source": [
    "## Zscores / Standardisation\n",
    "\n",
    "\n",
    "When working with data, sometimes it's necessary to work with variables that are not in the same scales - eg. weight of an elephant (thousands of kilogram) vs. weight of an ant (thousandths of a kilogram).\n",
    "\n",
    "Elephant: 6,000 kg = 6,000,000 grams = 6,000,000,000 milligram\n",
    "\n",
    "Ant: 6 milligrams = 0.006 grams = 0.000006 kilograms"
   ]
  },
  {
   "cell_type": "code",
   "execution_count": 5,
   "metadata": {},
   "outputs": [
    {
     "data": {
      "text/html": [
       "<div>\n",
       "<style>\n",
       "    .dataframe thead tr:only-child th {\n",
       "        text-align: right;\n",
       "    }\n",
       "\n",
       "    .dataframe thead th {\n",
       "        text-align: left;\n",
       "    }\n",
       "\n",
       "    .dataframe tbody tr th {\n",
       "        vertical-align: top;\n",
       "    }\n",
       "</style>\n",
       "<table border=\"1\" class=\"dataframe\">\n",
       "  <thead>\n",
       "    <tr style=\"text-align: right;\">\n",
       "      <th></th>\n",
       "      <th>animal</th>\n",
       "      <th>weights</th>\n",
       "    </tr>\n",
       "  </thead>\n",
       "  <tbody>\n",
       "    <tr>\n",
       "      <th>1995</th>\n",
       "      <td>elephants</td>\n",
       "      <td>5850.959817</td>\n",
       "    </tr>\n",
       "    <tr>\n",
       "      <th>1996</th>\n",
       "      <td>elephants</td>\n",
       "      <td>6970.087769</td>\n",
       "    </tr>\n",
       "    <tr>\n",
       "      <th>1997</th>\n",
       "      <td>elephants</td>\n",
       "      <td>11828.962842</td>\n",
       "    </tr>\n",
       "    <tr>\n",
       "      <th>1998</th>\n",
       "      <td>elephants</td>\n",
       "      <td>3446.506098</td>\n",
       "    </tr>\n",
       "    <tr>\n",
       "      <th>1999</th>\n",
       "      <td>elephants</td>\n",
       "      <td>5899.557967</td>\n",
       "    </tr>\n",
       "  </tbody>\n",
       "</table>\n",
       "</div>"
      ],
      "text/plain": [
       "         animal       weights\n",
       "1995  elephants   5850.959817\n",
       "1996  elephants   6970.087769\n",
       "1997  elephants  11828.962842\n",
       "1998  elephants   3446.506098\n",
       "1999  elephants   5899.557967"
      ]
     },
     "execution_count": 5,
     "metadata": {},
     "output_type": "execute_result"
    }
   ],
   "source": [
    "# Generate data and create dataframe with variable animal (ants / elephants) and weights (in kg)\n",
    "\n",
    "ants_weight = np.random.normal(loc = 0.000006, scale = 0.000003, size = 1000)\n",
    "elephants_weight = np.random.normal(loc = 6000, scale = 3000, size = 1000)\n",
    "\n",
    "ants = np.tile('ants', 1000)\n",
    "elephants = np.tile('elephants', 1000)\n",
    "\n",
    "df = pd.DataFrame({'animal': np.concatenate((ants, elephants)), 'weights': np.concatenate((ants_weight, elephants_weight))})\n",
    "df.tail()"
   ]
  },
  {
   "cell_type": "code",
   "execution_count": 6,
   "metadata": {},
   "outputs": [
    {
     "data": {
      "image/png": "[encoded data removed]",
      "text/plain": [
       "<matplotlib.figure.Figure at 0x7f29179a5410>"
      ]
     },
     "metadata": {},
     "output_type": "display_data"
    }
   ],
   "source": [
    "# Barplot weight of ants and weight of elephants\n",
    "plt.figure(figsize = [15,7])\n",
    "sns.boxplot(x = 'animal', y = 'weights', data = df);"
   ]
  },
  {
   "cell_type": "markdown",
   "metadata": {},
   "source": [
    "As can be seen, the two simply cannot be viewed on the same scale. How could be view them both on the same plot (put them on an equal playing field)? Enter the Zscore.\n",
    "\n",
    "## $$ Zscore = \\frac{X - \\bar{X}}{s_{X}} $$\n",
    "\n",
    "X - Observation\n",
    "\n",
    "$\\bar{X}$ - Mean of variable\n",
    "$s_{X}$ - Standard Deviation of variable"
   ]
  },
  {
   "cell_type": "markdown",
   "metadata": {},
   "source": [
    "A Zscore transforms data so it has a mean of 0 and a standard deviation of 1. Each observation is now a measure of how far from the variable's mean it is and in which direction (greater than the mean, smaller than the mean).\n",
    "\n",
    "**0: Equal to the mean**\n",
    "\n",
    "**+n: Greater than the mean**\n",
    "\n",
    "**-n: Less than the mean**\n",
    "\n",
    "We'll create a new variable z_weights that will contain the zscored weights."
   ]
  },
  {
   "cell_type": "code",
   "execution_count": 8,
   "metadata": {},
   "outputs": [
    {
     "name": "stderr",
     "output_type": "stream",
     "text": [
      "/home/ga/anaconda2/lib/python2.7/site-packages/ipykernel_launcher.py:7: SettingWithCopyWarning: \n",
      "A value is trying to be set on a copy of a slice from a DataFrame.\n",
      "Try using .loc[row_indexer,col_indexer] = value instead\n",
      "\n",
      "See the caveats in the documentation: http://pandas.pydata.org/pandas-docs/stable/indexing.html#indexing-view-versus-copy\n",
      "  import sys\n",
      "/home/ga/anaconda2/lib/python2.7/site-packages/ipykernel_launcher.py:12: SettingWithCopyWarning: \n",
      "A value is trying to be set on a copy of a slice from a DataFrame.\n",
      "Try using .loc[row_indexer,col_indexer] = value instead\n",
      "\n",
      "See the caveats in the documentation: http://pandas.pydata.org/pandas-docs/stable/indexing.html#indexing-view-versus-copy\n",
      "  if sys.path[0] == '':\n"
     ]
    }
   ],
   "source": [
    "#Make new variable zero filled\n",
    "df['z_weights'] = 0\n",
    "\n",
    "#Split ants specific data out\n",
    "ants = df[df['animal'] == 'ants']\n",
    "#Apply z-score\n",
    "ants['z_weight'] = (ants['weights'] - ants['weights'].mean()) / ants['weights'].std()\n",
    "\n",
    "#Split elephants specific data out\n",
    "elephants = df[df['animal'] == 'elephants']\n",
    "#Apply z-score\n",
    "elephants['z_weight'] = (elephants['weights'] - elephants['weights'].mean()) / elephants['weights'].std()\n",
    "\n",
    "#Populate z_weights with concatenated zscored data\n",
    "df['z_weights'] = np.concatenate((ants['z_weight'], elephants['z_weight']))"
   ]
  },
  {
   "cell_type": "code",
   "execution_count": 9,
   "metadata": {},
   "outputs": [
    {
     "data": {
      "text/plain": [
       "0      -0.847515\n",
       "1      -0.426012\n",
       "2      -2.776102\n",
       "3       0.513764\n",
       "4      -0.202329\n",
       "1995    0.000465\n",
       "1996    0.376189\n",
       "1997    2.007455\n",
       "1998   -0.806780\n",
       "1999    0.016781\n",
       "Name: z_weights, dtype: float64"
      ]
     },
     "execution_count": 9,
     "metadata": {},
     "output_type": "execute_result"
    }
   ],
   "source": [
    "#Show first and last 5 values\n",
    "df['z_weights'].iloc[np.r_[0:5, -5:0]]"
   ]
  },
  {
   "cell_type": "code",
   "execution_count": 124,
   "metadata": {},
   "outputs": [
    {
     "data": {
      "text/html": [
       "<div>\n",
       "<style>\n",
       "    .dataframe thead tr:only-child th {\n",
       "        text-align: right;\n",
       "    }\n",
       "\n",
       "    .dataframe thead th {\n",
       "        text-align: left;\n",
       "    }\n",
       "\n",
       "    .dataframe tbody tr th {\n",
       "        vertical-align: top;\n",
       "    }\n",
       "</style>\n",
       "<table border=\"1\" class=\"dataframe\">\n",
       "  <thead>\n",
       "    <tr>\n",
       "      <th></th>\n",
       "      <th colspan=\"4\" halign=\"left\">weights</th>\n",
       "      <th colspan=\"4\" halign=\"left\">z_weights</th>\n",
       "    </tr>\n",
       "    <tr>\n",
       "      <th></th>\n",
       "      <th>mean</th>\n",
       "      <th>std</th>\n",
       "      <th>min</th>\n",
       "      <th>max</th>\n",
       "      <th>mean</th>\n",
       "      <th>std</th>\n",
       "      <th>min</th>\n",
       "      <th>max</th>\n",
       "    </tr>\n",
       "    <tr>\n",
       "      <th>animal</th>\n",
       "      <th></th>\n",
       "      <th></th>\n",
       "      <th></th>\n",
       "      <th></th>\n",
       "      <th></th>\n",
       "      <th></th>\n",
       "      <th></th>\n",
       "      <th></th>\n",
       "    </tr>\n",
       "  </thead>\n",
       "  <tbody>\n",
       "    <tr>\n",
       "      <th>ants</th>\n",
       "      <td>0.000006</td>\n",
       "      <td>0.000003</td>\n",
       "      <td>-0.000002</td>\n",
       "      <td>0.000015</td>\n",
       "      <td>-3.933021e-15</td>\n",
       "      <td>1.0</td>\n",
       "      <td>-2.816495</td>\n",
       "      <td>2.905905</td>\n",
       "    </tr>\n",
       "    <tr>\n",
       "      <th>elephants</th>\n",
       "      <td>5992.976228</td>\n",
       "      <td>2936.217152</td>\n",
       "      <td>-4801.585841</td>\n",
       "      <td>16474.615408</td>\n",
       "      <td>2.000622e-16</td>\n",
       "      <td>1.0</td>\n",
       "      <td>-3.676350</td>\n",
       "      <td>3.569777</td>\n",
       "    </tr>\n",
       "  </tbody>\n",
       "</table>\n",
       "</div>"
      ],
      "text/plain": [
       "               weights                                             z_weights  \\\n",
       "                  mean          std          min           max          mean   \n",
       "animal                                                                         \n",
       "ants          0.000006     0.000003    -0.000002      0.000015 -3.933021e-15   \n",
       "elephants  5992.976228  2936.217152 -4801.585841  16474.615408  2.000622e-16   \n",
       "\n",
       "                                    \n",
       "           std       min       max  \n",
       "animal                              \n",
       "ants       1.0 -2.816495  2.905905  \n",
       "elephants  1.0 -3.676350  3.569777  "
      ]
     },
     "execution_count": 124,
     "metadata": {},
     "output_type": "execute_result"
    }
   ],
   "source": [
    "df.groupby(by = 'animal').agg(['mean', 'std', 'min', 'max'])"
   ]
  },
  {
   "cell_type": "code",
   "execution_count": 10,
   "metadata": {},
   "outputs": [
    {
     "data": {
      "image/png": "[encoded data removed]",
      "text/plain": [
       "<matplotlib.figure.Figure at 0x7f2917a7ce50>"
      ]
     },
     "metadata": {},
     "output_type": "display_data"
    }
   ],
   "source": [
    "plt.figure(figsize = [15,7])\n",
    "sns.boxplot(x = 'animal', y = 'z_weights', data = df);"
   ]
  },
  {
   "cell_type": "markdown",
   "metadata": {},
   "source": [
    "## The values of ants and elephants are on the same scale. Has the shape (distributions) of the data changed?"
   ]
  },
  {
   "cell_type": "code",
   "execution_count": 177,
   "metadata": {},
   "outputs": [
    {
     "data": {
      "image/png": "[encoded data removed]",
      "text/plain": [
       "<matplotlib.figure.Figure at 0x7fa52c400bd0>"
      ]
     },
     "metadata": {},
     "output_type": "display_data"
    }
   ],
   "source": [
    "fig = plt.figure(figsize = [20,15]);\n",
    "plt.subplot(221); plt.hist(df[df['animal'] == 'ants']['weights'], bins = 100);\n",
    "plt.title('Ants orig');\n",
    "plt.subplot(222); plt.hist(df[df['animal'] == 'ants']['z_weights'], bins = 100, color = 'g');\n",
    "plt.title('Ants zscore');\n",
    "plt.subplot(223); plt.hist(df[df['animal'] == 'elephants']['weights'], bins = 100);\n",
    "plt.title('Elephants orig');\n",
    "plt.subplot(224); plt.hist(df[df['animal'] == 'elephants']['z_weights'], bins = 100, color = 'g');\n",
    "plt.title('Elephants zscore');"
   ]
  },
  {
   "cell_type": "markdown",
   "metadata": {},
   "source": [
    "# Lets get silly\n",
    "\n",
    "Suppose we created an embiggening device and grew every ant to the size of elephant (or even that we made an ensmallening device and shrunk all elephants to the size of an ant...).\n",
    "\n",
    "We collect a sample of ants and a sample of elephants to answer the age old question:\n",
    "\n",
    "Is there a difference between giant ant weights and normal elephant weight?\n",
    "\n",
    "H0: There will be no difference in weights between ants and elephants\n",
    "\n",
    "H1: There **WILL** be a difference in weights between ants and elephants"
   ]
  },
  {
   "cell_type": "code",
   "execution_count": 12,
   "metadata": {},
   "outputs": [
    {
     "name": "stdout",
     "output_type": "stream",
     "text": [
      "The p value is 0.0\n",
      "Is there a difference between the weights of giant ants and normal elephants?\n"
     ]
    }
   ],
   "source": [
    "t, p = stats.ttest_ind(df[df['animal'] == 'ants']['weights'], df[df['animal'] == 'elephants']['weights'])\n",
    "\n",
    "print('The p value is {}\\nIs there a difference between the weights of giant ants and normal elephants?'.format(p))"
   ]
  },
  {
   "cell_type": "markdown",
   "metadata": {},
   "source": [
    "## Summary:\n",
    "\n",
    "1. Zscoring allows you to compare variables that on different scales / orders of magnitude.\n",
    "2. Zscores transform the data to have a mean of 0 and a std of 1\n",
    "3. Each observation is a transformed to how far it is from the group mean\n",
    "4. Transforming the data changes the values, but **NOT** the distribution\n",
    "5. It allows you to do some strange analyses..."
   ]
  }
 ],
 "metadata": {
  "kernelspec": {
   "display_name": "Python 2",
   "language": "python",
   "name": "python2"
  },
  "language_info": {
   "codemirror_mode": {
    "name": "ipython",
    "version": 2
   },
   "file_extension": ".py",
   "mimetype": "text/x-python",
   "name": "python",
   "nbconvert_exporter": "python",
   "pygments_lexer": "ipython2",
   "version": "2.7.13"
  }
 },
 "nbformat": 4,
 "nbformat_minor": 2
}