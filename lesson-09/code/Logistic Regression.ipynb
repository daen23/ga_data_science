{
 "cells": [
  {
   "cell_type": "markdown",
   "metadata": {},
   "source": [
    "# Logistic Regression"
   ]
  },
  {
   "cell_type": "code",
   "execution_count": null,
   "metadata": {},
   "outputs": [],
   "source": [
    "import pandas as pd\n",
    "from sklearn.model_selection import train_test_split\n",
    "from sklearn.linear_model import LogisticRegression\n",
    "import numpy as np\n",
    "from sklearn.metrics import confusion_matrix\n",
    "import matplotlib.pyplot as plt\n",
    "from sklearn.metrics import roc_curve, roc_auc_score"
   ]
  },
  {
   "cell_type": "markdown",
   "metadata": {},
   "source": [
    "## Import data"
   ]
  },
  {
   "cell_type": "code",
   "execution_count": null,
   "metadata": {},
   "outputs": [],
   "source": [
    "col_admit = pd.read_csv(\"../assets/dataset/collegeadmissions.csv\")\n",
    "\n",
    "col_admit.head(10)"
   ]
  },
  {
   "cell_type": "markdown",
   "metadata": {},
   "source": [
    "## Parse data"
   ]
  },
  {
   "cell_type": "code",
   "execution_count": null,
   "metadata": {},
   "outputs": [],
   "source": [
    "# check parsing\n",
    "col_admit.info()"
   ]
  },
  {
   "cell_type": "code",
   "execution_count": null,
   "metadata": {},
   "outputs": [],
   "source": [
    "# re-parse\n",
    "col_admit['admit'] = col_admit['admit'] == 1\n",
    "\n",
    "# create dummy variables\n",
    "rank_dummy = pd.get_dummies(col_admit['rank'], prefix='rank')\n",
    "\n",
    "rank_dummy.head(10)\n",
    "\n",
    "# fuse back\n",
    "col_admit_clean = pd.concat([col_admit, rank_dummy], axis = 1)\n",
    "\n",
    "# drop original rank column\n",
    "col_admit_clean = col_admit_clean.drop(columns = ['rank'])"
   ]
  },
  {
   "cell_type": "code",
   "execution_count": null,
   "metadata": {},
   "outputs": [],
   "source": [
    "# check parsing\n",
    "col_admit_clean.info()"
   ]
  },
  {
   "cell_type": "code",
   "execution_count": null,
   "metadata": {},
   "outputs": [],
   "source": [
    "# looks ok\n",
    "col_admit_clean.head(10)"
   ]
  },
  {
   "cell_type": "markdown",
   "metadata": {},
   "source": [
    "## Model"
   ]
  },
  {
   "cell_type": "markdown",
   "metadata": {},
   "source": [
    "### Training"
   ]
  },
  {
   "cell_type": "code",
   "execution_count": null,
   "metadata": {},
   "outputs": [],
   "source": [
    "# specifying the classifier. The C paramater is set high so we can compare with stats models and R output\n",
    "lr = LogisticRegression(C=1e9)\n",
    "\n",
    "# feature set\n",
    "X = col_admit_clean.drop(columns = ['admit', 'rank_1'])\n",
    "\n",
    "# target\n",
    "y = col_admit_clean['admit']\n",
    "\n",
    "# creating training / testings datasets\n",
    "X_train, X_test, y_train, y_test = train_test_split(X, y, test_size=0, random_state=42)"
   ]
  },
  {
   "cell_type": "code",
   "execution_count": null,
   "metadata": {},
   "outputs": [],
   "source": [
    "print(len(X_train.index))\n",
    "print(len(X_test.index))"
   ]
  },
  {
   "cell_type": "code",
   "execution_count": null,
   "metadata": {},
   "outputs": [],
   "source": [
    "# fit the classifier# fit t \n",
    "lr.fit(X_train,y_train)"
   ]
  },
  {
   "cell_type": "markdown",
   "metadata": {},
   "source": [
    "### Interpretation"
   ]
  },
  {
   "cell_type": "code",
   "execution_count": null,
   "metadata": {},
   "outputs": [],
   "source": [
    "lr.coef_"
   ]
  },
  {
   "cell_type": "markdown",
   "metadata": {},
   "source": [
    "### Testing"
   ]
  },
  {
   "cell_type": "code",
   "execution_count": null,
   "metadata": {},
   "outputs": [],
   "source": [
    "# predicted\n",
    "predicted = lr.predict(X_test)\n",
    "\n",
    "# predicted probabilities\n",
    "predictied_prob = lr.predict_proba(X_test)\n",
    "\n",
    "# actual\n",
    "validate = pd.DataFrame(y_test)\n",
    "\n",
    "validate.columns = ['actual']\n",
    "\n",
    "validate['predicted'] = predicted\n",
    "\n",
    "# estimated probability of admission\n",
    "validate['predictied_prob_admit'] = predictied_prob[:,1]\n",
    "\n",
    "# estimated probability of rejection!\n",
    "validate['predictied_prob_not_admit'] = predictied_prob[:,0]\n",
    "\n",
    "validate.head(10)"
   ]
  },
  {
   "cell_type": "markdown",
   "metadata": {},
   "source": [
    "Note: When predicited_prob_admit > 0.5 we predict that the student will be admitted!!"
   ]
  },
  {
   "cell_type": "code",
   "execution_count": null,
   "metadata": {},
   "outputs": [],
   "source": [
    "# overal accuracy... be careful!!\n",
    "np.sum(validate['actual'] == validate['predicted']) / len(validate)"
   ]
  },
  {
   "cell_type": "markdown",
   "metadata": {},
   "source": [
    "## Confusion matrix"
   ]
  },
  {
   "cell_type": "code",
   "execution_count": null,
   "metadata": {},
   "outputs": [],
   "source": [
    "confusion_matrix(validate['actual'], validate['predicted'])"
   ]
  },
  {
   "cell_type": "code",
   "execution_count": null,
   "metadata": {},
   "outputs": [],
   "source": [
    "pd.crosstab(validate['actual'], validate['predicted'], rownames=['Actual'], colnames=['Predicted'], margins=True)"
   ]
  },
  {
   "cell_type": "markdown",
   "metadata": {},
   "source": [
    "What can we say about this? Is this a good model?"
   ]
  },
  {
   "cell_type": "markdown",
   "metadata": {},
   "source": [
    "## ROC Curve (what happens when we vary our criteria for classification???)"
   ]
  },
  {
   "cell_type": "code",
   "execution_count": null,
   "metadata": {},
   "outputs": [],
   "source": [
    "plt.plot(roc_curve(y_test, predictied_prob[:,1])[0], roc_curve(y_test, predictied_prob[:,1])[1])"
   ]
  },
  {
   "cell_type": "markdown",
   "metadata": {},
   "source": [
    "Is this a good model? What about error? We we have just done one shot here... perhaps we can use cross-vailidation to get a better idea of the model performance."
   ]
  }
 ],
 "metadata": {
  "kernelspec": {
   "display_name": "Python 3",
   "language": "python",
   "name": "python3"
  },
  "language_info": {
   "codemirror_mode": {
    "name": "ipython",
    "version": 3
   },
   "file_extension": ".py",
   "mimetype": "text/x-python",
   "name": "python",
   "nbconvert_exporter": "python",
   "pygments_lexer": "ipython3",
   "version": "3.6.4"
  }
 },
 "nbformat": 4,
 "nbformat_minor": 2
}
