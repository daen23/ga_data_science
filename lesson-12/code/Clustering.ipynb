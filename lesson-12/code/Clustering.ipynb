{
 "cells": [
  {
   "cell_type": "markdown",
   "metadata": {},
   "source": [
    "# Cluster Analysis"
   ]
  },
  {
   "cell_type": "code",
   "execution_count": null,
   "metadata": {},
   "outputs": [],
   "source": [
    "import pandas as pd\n",
    "import numpy as np\n",
    "import matplotlib.pyplot as plt\n",
    "from sklearn import cluster, datasets\n",
    "from scipy.cluster import hierarchy"
   ]
  },
  {
   "cell_type": "markdown",
   "metadata": {},
   "source": [
    "## Import data"
   ]
  },
  {
   "cell_type": "code",
   "execution_count": null,
   "metadata": {},
   "outputs": [],
   "source": [
    "# loading iris data\n",
    "iris = datasets.load_iris()\n",
    "\n",
    "# forming a dataframe\n",
    "iris_df = pd.DataFrame(iris.data, columns=iris.feature_names)\n",
    "\n",
    "# create a target column\n",
    "iris_df['species'] = iris.target\n",
    "\n",
    "# view the dataset\n",
    "iris_df.head(10)"
   ]
  },
  {
   "cell_type": "markdown",
   "metadata": {},
   "source": [
    "## EDA"
   ]
  },
  {
   "cell_type": "code",
   "execution_count": null,
   "metadata": {},
   "outputs": [],
   "source": [
    "# map some colours in the dataset\n",
    "cmap = {'0': 'r', '1': 'g', '2': 'b' }\n",
    "\n",
    "iris_df['cspecies'] = iris_df.species.apply(lambda x: cmap[str(x)])\n",
    "\n",
    "# viewing the data\n",
    "iris_df.plot('petal length (cm)', 'petal width (cm)', kind='scatter', c=iris_df.cspecies)\n",
    "iris_df.plot('petal length (cm)', 'petal width (cm)', kind='scatter', c=iris_df.cspecies)"
   ]
  },
  {
   "cell_type": "markdown",
   "metadata": {},
   "source": [
    "Those are the 'real' species... what if we didn't know what they were..."
   ]
  },
  {
   "cell_type": "code",
   "execution_count": null,
   "metadata": {},
   "outputs": [],
   "source": [
    "# remove the labels\n",
    "X = iris_df.drop(columns = ['species', 'cspecies'])\n",
    "\n",
    "X.head(10)"
   ]
  },
  {
   "cell_type": "markdown",
   "metadata": {},
   "source": [
    "## Clustering"
   ]
  },
  {
   "cell_type": "markdown",
   "metadata": {},
   "source": [
    "### k-means"
   ]
  },
  {
   "cell_type": "code",
   "execution_count": null,
   "metadata": {},
   "outputs": [],
   "source": [
    "# set the method at a given k\n",
    "km = cluster.KMeans(n_clusters = 3)"
   ]
  },
  {
   "cell_type": "markdown",
   "metadata": {},
   "source": [
    "Let's run the clustering"
   ]
  },
  {
   "cell_type": "code",
   "execution_count": null,
   "metadata": {},
   "outputs": [],
   "source": [
    "# kmeans meets the data!\n",
    "km.fit(X)"
   ]
  },
  {
   "cell_type": "markdown",
   "metadata": {},
   "source": [
    "Let's take a look at result!"
   ]
  },
  {
   "cell_type": "code",
   "execution_count": null,
   "metadata": {},
   "outputs": [],
   "source": [
    "# cluster labels\n",
    "km.labels_"
   ]
  },
  {
   "cell_type": "markdown",
   "metadata": {},
   "source": [
    "## Validation"
   ]
  },
  {
   "cell_type": "code",
   "execution_count": null,
   "metadata": {},
   "outputs": [],
   "source": [
    "# add the cluster labels to the data set\n",
    "validate = X.copy()\n",
    "\n",
    "validate['km_clusters'] = km.labels_\n",
    "\n",
    "validate.head(10)"
   ]
  },
  {
   "cell_type": "code",
   "execution_count": null,
   "metadata": {},
   "outputs": [],
   "source": [
    "# map some colours (change depending on how many clusters you choose...)\n",
    "cclus = {'0': 'r', '1': 'g', '2': 'b', '3': 'y'}\n",
    "\n",
    "validate['ckm_clusters'] = validate.km_clusters.apply(lambda x: cclus[str(x)]) \n",
    "\n",
    "validate.head(10)"
   ]
  },
  {
   "cell_type": "code",
   "execution_count": null,
   "metadata": {},
   "outputs": [],
   "source": [
    "# viewing the data\n",
    "validate.plot('petal length (cm)', 'petal width (cm)', kind='scatter', c=validate.ckm_clusters)\n",
    "validate.plot('petal length (cm)', 'petal width (cm)', kind='scatter', c=validate.ckm_clusters)"
   ]
  },
  {
   "cell_type": "markdown",
   "metadata": {},
   "source": [
    "## Hierarchical clustering"
   ]
  },
  {
   "cell_type": "markdown",
   "metadata": {},
   "source": [
    "Hierarchical clustering using Ward's Method"
   ]
  },
  {
   "cell_type": "code",
   "execution_count": null,
   "metadata": {},
   "outputs": [],
   "source": [
    "# get set\n",
    "hc = cluster.AgglomerativeClustering(n_clusters = 4)"
   ]
  },
  {
   "cell_type": "code",
   "execution_count": null,
   "metadata": {},
   "outputs": [],
   "source": [
    "# fit\n",
    "hc.fit(X)"
   ]
  },
  {
   "cell_type": "code",
   "execution_count": null,
   "metadata": {},
   "outputs": [],
   "source": [
    "# clusters\n",
    "hc.labels_"
   ]
  },
  {
   "cell_type": "code",
   "execution_count": null,
   "metadata": {},
   "outputs": [],
   "source": [
    "# adding the resulting clusters\n",
    "validate['hc_clusters'] = hc.labels_\n",
    "\n",
    "validate.head(10)"
   ]
  },
  {
   "cell_type": "code",
   "execution_count": null,
   "metadata": {},
   "outputs": [],
   "source": [
    "# map some colours (change depending on how many clusters you choose...)\n",
    "validate['chc_clusters'] = validate.hc_clusters.apply(lambda x: cclus[str(x)]) \n",
    "\n",
    "validate.head(10)"
   ]
  },
  {
   "cell_type": "code",
   "execution_count": null,
   "metadata": {},
   "outputs": [],
   "source": [
    "# viewing the data\n",
    "validate.plot('petal length (cm)', 'petal width (cm)', kind='scatter', c=validate.chc_clusters)\n",
    "validate.plot('petal length (cm)', 'petal width (cm)', kind='scatter', c=validate.chc_clusters)"
   ]
  },
  {
   "cell_type": "markdown",
   "metadata": {},
   "source": [
    "Now up to you... try the DBSCAN method!"
   ]
  }
 ],
 "metadata": {
  "kernelspec": {
   "display_name": "Python 3",
   "language": "python",
   "name": "python3"
  },
  "language_info": {
   "codemirror_mode": {
    "name": "ipython",
    "version": 3
   },
   "file_extension": ".py",
   "mimetype": "text/x-python",
   "name": "python",
   "nbconvert_exporter": "python",
   "pygments_lexer": "ipython3",
   "version": "3.6.4"
  }
 },
 "nbformat": 4,
 "nbformat_minor": 2
}
