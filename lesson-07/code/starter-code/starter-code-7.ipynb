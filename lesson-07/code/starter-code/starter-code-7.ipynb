{
 "cells": [
  {
   "cell_type": "markdown",
   "metadata": {},
   "source": [
    "### Class 7- Starter code\n"
   ]
  },
  {
   "cell_type": "code",
   "execution_count": 1,
   "metadata": {},
   "outputs": [
    {
     "name": "stderr",
     "output_type": "stream",
     "text": [
      "/anaconda3/lib/python3.6/site-packages/statsmodels/compat/pandas.py:56: FutureWarning: The pandas.core.datetools module is deprecated and will be removed in a future version. Please use the pandas.tseries module instead.\n",
      "  from pandas.core import datetools\n"
     ]
    }
   ],
   "source": [
    "%matplotlib inline\n",
    "\n",
    "import numpy as np\n",
    "import pandas as pd\n",
    "import matplotlib.pylab as plt\n",
    "from sklearn import linear_model, metrics\n",
    "import sklearn\n",
    "import statsmodels.api as sm"
   ]
  },
  {
   "cell_type": "markdown",
   "metadata": {},
   "source": [
    "### Create sample data and fit a model"
   ]
  },
  {
   "cell_type": "code",
   "execution_count": 2,
   "metadata": {},
   "outputs": [],
   "source": [
    "np.random.seed(1020) #Set seed\n",
    "\n",
    "df = pd.DataFrame({'x': range(100), 'y': range(100)}) #Create a dataframe with two columns\n",
    "biased_df  = df.copy() #Why?\n",
    "biased_df.loc[:20, 'x'] = 1 #Make idx 0:19 = 1\n",
    "biased_df.loc[:20, 'y'] = 1 #Ditto\n",
    "\n",
    "def append_jitter(series):\n",
    "    jitter = np.random.random_sample(size=100)\n",
    "    return(series + jitter)\n",
    "\n",
    "df['x'] = append_jitter(df.x)\n",
    "df['y'] = append_jitter(df.y)\n",
    "\n",
    "biased_df['x'] = append_jitter(biased_df.x)\n",
    "biased_df['y'] = append_jitter(biased_df.y)"
   ]
  },
  {
   "cell_type": "code",
   "execution_count": 3,
   "metadata": {},
   "outputs": [
    {
     "data": {
      "image/png": "[encoded data removed]",
      "text/plain": [
       "<matplotlib.figure.Figure at 0x1c14a82eb8>"
      ]
     },
     "metadata": {},
     "output_type": "display_data"
    }
   ],
   "source": [
    "#Plot scatterplots\n",
    "\n",
    "plt.figure; #Make new figure window\n",
    "\n",
    "#Plot a 2 x 1 figure, in the top row the Unbiased data\n",
    "plt.subplot(211); plt.plot(df['x'], df['y'], '.');\n",
    "plt.title('Unbiased')\n",
    "\n",
    "#And in the bottom the biased (wrong) data\n",
    "plt.subplot(212); plt.plot(biased_df['x'], biased_df['y'], '.');\n",
    "plt.title('Biased')\n",
    "plt.tight_layout()"
   ]
  },
  {
   "cell_type": "code",
   "execution_count": 4,
   "metadata": {},
   "outputs": [
    {
     "name": "stdout",
     "output_type": "stream",
     "text": [
      "MSE = 0.17479357074520824\n",
      "r2 = 0.9997903888754838\n"
     ]
    }
   ],
   "source": [
    "## fit\n",
    "lm = linear_model.LinearRegression()\n",
    "lm = lm.fit(df[['x']], df['y'])\n",
    "print('MSE = {}'.format(metrics.mean_squared_error(df['y'], lm.predict(df[['x']]))))\n",
    "print('r2 = {}'.format(lm.score(df[['x']], df['y'])))"
   ]
  },
  {
   "cell_type": "code",
   "execution_count": 5,
   "metadata": {},
   "outputs": [
    {
     "name": "stdout",
     "output_type": "stream",
     "text": [
      "0.18178278991703792\n",
      "r2 = 0.9998318261034117\n"
     ]
    }
   ],
   "source": [
    "## biased fit\n",
    "lm = linear_model.LinearRegression().fit(biased_df[['x']], biased_df['y'])\n",
    "print(metrics.mean_squared_error(df['y'], lm.predict(df[['x']])))\n",
    "print('r2 = {}'.format(lm.score(biased_df[['x']], biased_df['y'])))"
   ]
  },
  {
   "cell_type": "markdown",
   "metadata": {},
   "source": [
    "## Cross validation\n",
    "#### Intro to cross validation with bike share data from last time. We will be modeling casual ridership. "
   ]
  },
  {
   "cell_type": "code",
   "execution_count": 6,
   "metadata": {},
   "outputs": [
    {
     "name": "stderr",
     "output_type": "stream",
     "text": [
      "/anaconda3/lib/python3.6/site-packages/sklearn/cross_validation.py:41: DeprecationWarning: This module was deprecated in version 0.18 in favor of the model_selection module into which all the refactored classes and functions are moved. Also note that the interface of the new CV iterators are different from that of this module. This module will be removed in 0.20.\n",
      "  \"This module will be removed in 0.20.\", DeprecationWarning)\n"
     ]
    },
    {
     "data": {
      "text/html": [
       "<div>\n",
       "<style scoped>\n",
       "    .dataframe tbody tr th:only-of-type {\n",
       "        vertical-align: middle;\n",
       "    }\n",
       "\n",
       "    .dataframe tbody tr th {\n",
       "        vertical-align: top;\n",
       "    }\n",
       "\n",
       "    .dataframe thead th {\n",
       "        text-align: right;\n",
       "    }\n",
       "</style>\n",
       "<table border=\"1\" class=\"dataframe\">\n",
       "  <thead>\n",
       "    <tr style=\"text-align: right;\">\n",
       "      <th></th>\n",
       "      <th>instant</th>\n",
       "      <th>dteday</th>\n",
       "      <th>season</th>\n",
       "      <th>yr</th>\n",
       "      <th>mnth</th>\n",
       "      <th>hr</th>\n",
       "      <th>holiday</th>\n",
       "      <th>weekday</th>\n",
       "      <th>workingday</th>\n",
       "      <th>weathersit</th>\n",
       "      <th>temp</th>\n",
       "      <th>atemp</th>\n",
       "      <th>hum</th>\n",
       "      <th>windspeed</th>\n",
       "      <th>casual</th>\n",
       "      <th>registered</th>\n",
       "      <th>cnt</th>\n",
       "    </tr>\n",
       "  </thead>\n",
       "  <tbody>\n",
       "    <tr>\n",
       "      <th>0</th>\n",
       "      <td>1</td>\n",
       "      <td>2011-01-01</td>\n",
       "      <td>1.0</td>\n",
       "      <td>0.0</td>\n",
       "      <td>1.0</td>\n",
       "      <td>0.0</td>\n",
       "      <td>0.0</td>\n",
       "      <td>6.0</td>\n",
       "      <td>0.0</td>\n",
       "      <td>1.0</td>\n",
       "      <td>0.24</td>\n",
       "      <td>0.2879</td>\n",
       "      <td>0.81</td>\n",
       "      <td>0.0</td>\n",
       "      <td>3.0</td>\n",
       "      <td>13.0</td>\n",
       "      <td>16.0</td>\n",
       "    </tr>\n",
       "    <tr>\n",
       "      <th>1</th>\n",
       "      <td>2</td>\n",
       "      <td>2011-01-01</td>\n",
       "      <td>1.0</td>\n",
       "      <td>0.0</td>\n",
       "      <td>1.0</td>\n",
       "      <td>1.0</td>\n",
       "      <td>0.0</td>\n",
       "      <td>6.0</td>\n",
       "      <td>0.0</td>\n",
       "      <td>1.0</td>\n",
       "      <td>0.22</td>\n",
       "      <td>0.2727</td>\n",
       "      <td>0.80</td>\n",
       "      <td>0.0</td>\n",
       "      <td>8.0</td>\n",
       "      <td>32.0</td>\n",
       "      <td>40.0</td>\n",
       "    </tr>\n",
       "    <tr>\n",
       "      <th>2</th>\n",
       "      <td>3</td>\n",
       "      <td>2011-01-01</td>\n",
       "      <td>1.0</td>\n",
       "      <td>0.0</td>\n",
       "      <td>1.0</td>\n",
       "      <td>2.0</td>\n",
       "      <td>0.0</td>\n",
       "      <td>6.0</td>\n",
       "      <td>0.0</td>\n",
       "      <td>1.0</td>\n",
       "      <td>0.22</td>\n",
       "      <td>0.2727</td>\n",
       "      <td>0.80</td>\n",
       "      <td>0.0</td>\n",
       "      <td>5.0</td>\n",
       "      <td>27.0</td>\n",
       "      <td>32.0</td>\n",
       "    </tr>\n",
       "    <tr>\n",
       "      <th>3</th>\n",
       "      <td>4</td>\n",
       "      <td>2011-01-01</td>\n",
       "      <td>1.0</td>\n",
       "      <td>0.0</td>\n",
       "      <td>1.0</td>\n",
       "      <td>3.0</td>\n",
       "      <td>0.0</td>\n",
       "      <td>6.0</td>\n",
       "      <td>0.0</td>\n",
       "      <td>1.0</td>\n",
       "      <td>0.24</td>\n",
       "      <td>0.2879</td>\n",
       "      <td>0.75</td>\n",
       "      <td>0.0</td>\n",
       "      <td>3.0</td>\n",
       "      <td>10.0</td>\n",
       "      <td>13.0</td>\n",
       "    </tr>\n",
       "    <tr>\n",
       "      <th>4</th>\n",
       "      <td>5</td>\n",
       "      <td>2011-01-01</td>\n",
       "      <td>1.0</td>\n",
       "      <td>0.0</td>\n",
       "      <td>1.0</td>\n",
       "      <td>4.0</td>\n",
       "      <td>0.0</td>\n",
       "      <td>6.0</td>\n",
       "      <td>0.0</td>\n",
       "      <td>1.0</td>\n",
       "      <td>0.24</td>\n",
       "      <td>0.2879</td>\n",
       "      <td>0.75</td>\n",
       "      <td>0.0</td>\n",
       "      <td>0.0</td>\n",
       "      <td>1.0</td>\n",
       "      <td>1.0</td>\n",
       "    </tr>\n",
       "  </tbody>\n",
       "</table>\n",
       "</div>"
      ],
      "text/plain": [
       "   instant      dteday  season   yr  mnth   hr  holiday  weekday  workingday  \\\n",
       "0        1  2011-01-01     1.0  0.0   1.0  0.0      0.0      6.0         0.0   \n",
       "1        2  2011-01-01     1.0  0.0   1.0  1.0      0.0      6.0         0.0   \n",
       "2        3  2011-01-01     1.0  0.0   1.0  2.0      0.0      6.0         0.0   \n",
       "3        4  2011-01-01     1.0  0.0   1.0  3.0      0.0      6.0         0.0   \n",
       "4        5  2011-01-01     1.0  0.0   1.0  4.0      0.0      6.0         0.0   \n",
       "\n",
       "   weathersit  temp   atemp   hum  windspeed  casual  registered   cnt  \n",
       "0         1.0  0.24  0.2879  0.81        0.0     3.0        13.0  16.0  \n",
       "1         1.0  0.22  0.2727  0.80        0.0     8.0        32.0  40.0  \n",
       "2         1.0  0.22  0.2727  0.80        0.0     5.0        27.0  32.0  \n",
       "3         1.0  0.24  0.2879  0.75        0.0     3.0        10.0  13.0  \n",
       "4         1.0  0.24  0.2879  0.75        0.0     0.0         1.0   1.0  "
      ]
     },
     "execution_count": 6,
     "metadata": {},
     "output_type": "execute_result"
    }
   ],
   "source": [
    "from sklearn import cross_validation\n",
    "wd = '../../assets/dataset/'\n",
    "bikeshare = pd.read_csv(wd + 'bikeshare.csv').dropna()\n",
    "bikeshare.head()"
   ]
  },
  {
   "cell_type": "markdown",
   "metadata": {},
   "source": [
    "#### Create dummy variables and set outcome (dependent) variable"
   ]
  },
  {
   "cell_type": "code",
   "execution_count": 7,
   "metadata": {},
   "outputs": [
    {
     "data": {
      "text/html": [
       "<div>\n",
       "<style scoped>\n",
       "    .dataframe tbody tr th:only-of-type {\n",
       "        vertical-align: middle;\n",
       "    }\n",
       "\n",
       "    .dataframe tbody tr th {\n",
       "        vertical-align: top;\n",
       "    }\n",
       "\n",
       "    .dataframe thead th {\n",
       "        text-align: right;\n",
       "    }\n",
       "</style>\n",
       "<table border=\"1\" class=\"dataframe\">\n",
       "  <thead>\n",
       "    <tr style=\"text-align: right;\">\n",
       "      <th></th>\n",
       "      <th>temp</th>\n",
       "      <th>hum</th>\n",
       "      <th>weather_1.0</th>\n",
       "      <th>weather_2.0</th>\n",
       "      <th>weather_3.0</th>\n",
       "    </tr>\n",
       "  </thead>\n",
       "  <tbody>\n",
       "    <tr>\n",
       "      <th>0</th>\n",
       "      <td>0.24</td>\n",
       "      <td>0.81</td>\n",
       "      <td>1</td>\n",
       "      <td>0</td>\n",
       "      <td>0</td>\n",
       "    </tr>\n",
       "    <tr>\n",
       "      <th>1</th>\n",
       "      <td>0.22</td>\n",
       "      <td>0.80</td>\n",
       "      <td>1</td>\n",
       "      <td>0</td>\n",
       "      <td>0</td>\n",
       "    </tr>\n",
       "    <tr>\n",
       "      <th>2</th>\n",
       "      <td>0.22</td>\n",
       "      <td>0.80</td>\n",
       "      <td>1</td>\n",
       "      <td>0</td>\n",
       "      <td>0</td>\n",
       "    </tr>\n",
       "    <tr>\n",
       "      <th>3</th>\n",
       "      <td>0.24</td>\n",
       "      <td>0.75</td>\n",
       "      <td>1</td>\n",
       "      <td>0</td>\n",
       "      <td>0</td>\n",
       "    </tr>\n",
       "    <tr>\n",
       "      <th>4</th>\n",
       "      <td>0.24</td>\n",
       "      <td>0.75</td>\n",
       "      <td>1</td>\n",
       "      <td>0</td>\n",
       "      <td>0</td>\n",
       "    </tr>\n",
       "  </tbody>\n",
       "</table>\n",
       "</div>"
      ],
      "text/plain": [
       "   temp   hum  weather_1.0  weather_2.0  weather_3.0\n",
       "0  0.24  0.81            1            0            0\n",
       "1  0.22  0.80            1            0            0\n",
       "2  0.22  0.80            1            0            0\n",
       "3  0.24  0.75            1            0            0\n",
       "4  0.24  0.75            1            0            0"
      ]
     },
     "execution_count": 7,
     "metadata": {},
     "output_type": "execute_result"
    }
   ],
   "source": [
    "weather = pd.get_dummies(bikeshare.weathersit, prefix='weather')\n",
    "modeldata = bikeshare[['temp', 'hum']].join(weather[['weather_1.0', 'weather_2.0', 'weather_3.0']])\n",
    "y = bikeshare.casual\n",
    "\n",
    "modeldata.head()"
   ]
  },
  {
   "cell_type": "code",
   "execution_count": 8,
   "metadata": {},
   "outputs": [
    {
     "data": {
      "text/html": [
       "<div>\n",
       "<style scoped>\n",
       "    .dataframe tbody tr th:only-of-type {\n",
       "        vertical-align: middle;\n",
       "    }\n",
       "\n",
       "    .dataframe tbody tr th {\n",
       "        vertical-align: top;\n",
       "    }\n",
       "\n",
       "    .dataframe thead th {\n",
       "        text-align: right;\n",
       "    }\n",
       "</style>\n",
       "<table border=\"1\" class=\"dataframe\">\n",
       "  <thead>\n",
       "    <tr style=\"text-align: right;\">\n",
       "      <th>weather_2.0</th>\n",
       "      <th>0</th>\n",
       "      <th>1</th>\n",
       "      <th>All</th>\n",
       "    </tr>\n",
       "    <tr>\n",
       "      <th>weather_1.0</th>\n",
       "      <th></th>\n",
       "      <th></th>\n",
       "      <th></th>\n",
       "    </tr>\n",
       "  </thead>\n",
       "  <tbody>\n",
       "    <tr>\n",
       "      <th>0</th>\n",
       "      <td>276.0</td>\n",
       "      <td>819.0</td>\n",
       "      <td>1095</td>\n",
       "    </tr>\n",
       "    <tr>\n",
       "      <th>1</th>\n",
       "      <td>1541.0</td>\n",
       "      <td>NaN</td>\n",
       "      <td>1541</td>\n",
       "    </tr>\n",
       "    <tr>\n",
       "      <th>All</th>\n",
       "      <td>1817.0</td>\n",
       "      <td>819.0</td>\n",
       "      <td>2636</td>\n",
       "    </tr>\n",
       "  </tbody>\n",
       "</table>\n",
       "</div>"
      ],
      "text/plain": [
       "weather_2.0       0      1   All\n",
       "weather_1.0                     \n",
       "0             276.0  819.0  1095\n",
       "1            1541.0    NaN  1541\n",
       "All          1817.0  819.0  2636"
      ]
     },
     "execution_count": 8,
     "metadata": {},
     "output_type": "execute_result"
    }
   ],
   "source": [
    "pd.crosstab(modeldata['weather_1.0'], modeldata['weather_2.0'], modeldata['weather_3.0'], margins = True, aggfunc = 'count')"
   ]
  },
  {
   "cell_type": "markdown",
   "metadata": {},
   "source": [
    "#### Create a cross valiation with 5 folds"
   ]
  },
  {
   "cell_type": "code",
   "execution_count": 9,
   "metadata": {},
   "outputs": [
    {
     "name": "stdout",
     "output_type": "stream",
     "text": [
      "Model 1\n",
      "MSE: 62.10984721941031\n",
      "R2: 0.3027063788073888\n",
      "Model 2\n",
      "MSE: 112.50264152954445\n",
      "R2: 0.30041952744046907\n",
      "Model 3\n",
      "MSE: 341.77210522892767\n",
      "R2: 0.29297780143203594\n",
      "Model 4\n",
      "MSE: 711.4507978930378\n",
      "R2: 0.2979891501967816\n",
      "Model 5\n",
      "MSE: 1406.12153316711\n",
      "R2: 0.29303466273864687\n",
      "~~~~ SUMMARY OF CROSS VALIDATION ~~~~\n",
      "Mean of MSE for all folds: 526.7913850076061\n",
      "Mean of R2 for all folds: 0.29742550412306445\n"
     ]
    }
   ],
   "source": [
    "kf = cross_validation.KFold(len(modeldata), n_folds = 5, shuffle = False) \n",
    "\n",
    "mse_values = []\n",
    "scores = []\n",
    "n = 0\n",
    "\n",
    "for train_index, test_index in kf:\n",
    "    lm = linear_model.LinearRegression().fit(modeldata.iloc[train_index], y.iloc[train_index])\n",
    "    mse_values.append(metrics.mean_squared_error(y.iloc[test_index], lm.predict(modeldata.iloc[test_index])))\n",
    "    scores.append(lm.score(modeldata, y))\n",
    "    n+=1\n",
    "    print('Model', n)\n",
    "    print('MSE:', mse_values[n-1])\n",
    "    print('R2:', scores[n-1])\n",
    "\n",
    "\n",
    "print(\"~~~~ SUMMARY OF CROSS VALIDATION ~~~~\")\n",
    "print('Mean of MSE for all folds:', np.mean(mse_values))\n",
    "print('Mean of R2 for all folds:', np.mean(scores))"
   ]
  },
  {
   "cell_type": "code",
   "execution_count": 10,
   "metadata": {},
   "outputs": [
    {
     "name": "stdout",
     "output_type": "stream",
     "text": [
      "\n",
      "Mean of 2 folds MSE: 589.3779791429573\n",
      "Mean of 2 folds r2: 0.2503109346632029\n",
      "\n",
      "Mean of 3 folds MSE: 554.9778959879495\n",
      "Mean of 3 folds r2: 0.2831279326288269\n",
      "\n",
      "Mean of 4 folds MSE: 516.8249254801264\n",
      "Mean of 4 folds r2: 0.29780048566182943\n",
      "\n",
      "Mean of 5 folds MSE: 526.7913850076061\n",
      "Mean of 5 folds r2: 0.29742550412306445\n",
      "\n",
      "Mean of 6 folds MSE: 516.4256535515814\n",
      "Mean of 6 folds r2: 0.30009848367503156\n",
      "\n",
      "Mean of 7 folds MSE: 513.3067159321397\n",
      "Mean of 7 folds r2: 0.30100363617798276\n",
      "\n",
      "Mean of 8 folds MSE: 511.83624038675293\n",
      "Mean of 8 folds r2: 0.3015757734331898\n",
      "\n",
      "Mean of 9 folds MSE: 5.23158198558213e+25\n",
      "Mean of 9 folds r2: -8.249534213959941e+21\n",
      "\n",
      "Mean of 10 folds MSE: 511.3231301043664\n",
      "Mean of 10 folds r2: 0.3020293327665448\n",
      "\n",
      "Mean of 11 folds MSE: 513.3649152315651\n",
      "Mean of 11 folds r2: 0.30204225621727765\n",
      "\n",
      "Mean of 12 folds MSE: 510.7683479958655\n",
      "Mean of 12 folds r2: 0.3023614384093726\n",
      "\n",
      "Mean of 13 folds MSE: 510.00703470056396\n",
      "Mean of 13 folds r2: 0.30248646362792375\n",
      "\n",
      "Mean of 14 folds MSE: 510.85609836117095\n",
      "Mean of 14 folds r2: 0.30250613271907606\n",
      "\n",
      "Mean of 15 folds MSE: 511.43430944956003\n",
      "Mean of 15 folds r2: 0.30256739231432633\n",
      "\n",
      "Mean of 16 folds MSE: 509.64760797438447\n",
      "Mean of 16 folds r2: 0.3027347191145146\n",
      "\n",
      "Mean of 17 folds MSE: 507.65268596199286\n",
      "Mean of 17 folds r2: 0.30283697615334126\n",
      "\n",
      "Mean of 18 folds MSE: 507.63804572002624\n",
      "Mean of 18 folds r2: 0.30291779301094995\n",
      "\n",
      "Mean of 19 folds MSE: 508.3201121941928\n",
      "Mean of 19 folds r2: 0.3029303688383592\n",
      "\n",
      "Mean of 20 folds MSE: 508.9505970520149\n",
      "Mean of 20 folds r2: 0.30294310432025906\n",
      "\n",
      "Mean of 21 folds MSE: 510.3904603319557\n",
      "Mean of 21 folds r2: 0.30293205452258304\n",
      "\n",
      "Mean of 22 folds MSE: 4.469566491284576e+24\n",
      "Mean of 22 folds r2: -2.886525646524469e+20\n",
      "\n",
      "Mean of 23 folds MSE: 510.02776792597905\n",
      "Mean of 23 folds r2: 0.30300993239952073\n",
      "\n",
      "Mean of 24 folds MSE: 511.60977810357446\n",
      "Mean of 24 folds r2: 0.3029653470063811\n",
      "\n",
      "Mean of 25 folds MSE: 511.5885613529216\n",
      "Mean of 25 folds r2: 0.30300027688021713\n",
      "\n",
      "Mean of 26 folds MSE: 513.6903115102289\n",
      "Mean of 26 folds r2: 0.3029684917537495\n",
      "\n",
      "Mean of 27 folds MSE: 513.2935191978331\n",
      "Mean of 27 folds r2: 0.3030199741045503\n",
      "\n",
      "Mean of 28 folds MSE: 511.6436166663934\n",
      "Mean of 28 folds r2: 0.30304129956587766\n",
      "\n",
      "Mean of 29 folds MSE: 511.3499262284293\n",
      "Mean of 29 folds r2: 0.30308150295623837\n",
      "\n",
      "Mean of 30 folds MSE: 513.1773178646825\n",
      "Mean of 30 folds r2: 0.30305741245741163\n",
      "\n",
      "Mean of 31 folds MSE: 511.0010560832782\n",
      "Mean of 31 folds r2: 0.30309803982083683\n",
      "\n",
      "Mean of 32 folds MSE: 519.3704643077674\n",
      "Mean of 32 folds r2: 0.3029653573186514\n",
      "\n",
      "Mean of 33 folds MSE: 518.7674696272962\n",
      "Mean of 33 folds r2: 0.3029773590483545\n",
      "\n",
      "Mean of 34 folds MSE: 514.7912499776171\n",
      "Mean of 34 folds r2: 0.30311478763642796\n",
      "\n",
      "Mean of 35 folds MSE: 517.4244514700292\n",
      "Mean of 35 folds r2: 0.303053708102637\n",
      "\n",
      "Mean of 36 folds MSE: 513.7891146338015\n",
      "Mean of 36 folds r2: 0.3031346547292487\n",
      "\n",
      "Mean of 37 folds MSE: 514.2164259804075\n",
      "Mean of 37 folds r2: 0.3031428735393066\n",
      "\n",
      "Mean of 38 folds MSE: 516.5668129892432\n",
      "Mean of 38 folds r2: 0.3031246077896515\n",
      "\n",
      "Mean of 39 folds MSE: 1.0420294847902925e+26\n",
      "Mean of 39 folds r2: -3.81344680358442e+21\n",
      "\n",
      "Mean of 40 folds MSE: 514.9535108434054\n",
      "Mean of 40 folds r2: 0.3031606153275893\n",
      "\n",
      "Mean of 41 folds MSE: 514.4121769360743\n",
      "Mean of 41 folds r2: 0.30319073900677673\n",
      "\n",
      "Mean of 42 folds MSE: 518.276878279499\n",
      "Mean of 42 folds r2: 0.30314635272069396\n",
      "\n",
      "Mean of 43 folds MSE: 515.9977454660177\n",
      "Mean of 43 folds r2: 0.3031853289003336\n",
      "\n",
      "Mean of 44 folds MSE: 512.7991537052012\n",
      "Mean of 44 folds r2: 0.3032435708550037\n",
      "\n",
      "Mean of 45 folds MSE: 516.209176896972\n",
      "Mean of 45 folds r2: 0.3032227903866451\n",
      "\n",
      "Mean of 46 folds MSE: 512.0166651021476\n",
      "Mean of 46 folds r2: 0.30327905777068515\n",
      "\n",
      "Mean of 47 folds MSE: 514.8146360225201\n",
      "Mean of 47 folds r2: 0.30321409898644236\n",
      "\n",
      "Mean of 48 folds MSE: 517.0257000247436\n",
      "Mean of 48 folds r2: 0.30320711967882424\n",
      "\n",
      "Mean of 49 folds MSE: 515.1530568290084\n",
      "Mean of 49 folds r2: 0.30326843944111537\n"
     ]
    }
   ],
   "source": [
    "k_scores = []\n",
    "k_mse = []\n",
    "\n",
    "for l, k in enumerate(range(2,50)):\n",
    "    kf = cross_validation.KFold(len(modeldata), n_folds = k, shuffle = False)\n",
    "    mse_values = []\n",
    "    scores = []\n",
    "    n = 0\n",
    "\n",
    "    for train_index, test_index in kf:\n",
    "        lm = linear_model.LinearRegression().fit(modeldata.iloc[train_index], y.iloc[train_index])\n",
    "        mse_values.append(metrics.mean_squared_error(y.iloc[test_index], lm.predict(modeldata.iloc[test_index])))\n",
    "        scores.append(lm.score(modeldata, y))\n",
    "        n+=1\n",
    "        \n",
    "    k_mse.append(np.mean(mse_values))\n",
    "    k_scores.append(np.mean(scores))\n",
    "    print('\\nMean of {} folds MSE: {}'.format(k, k_mse[l]))\n",
    "    print('Mean of {} folds r2: {}'.format(k, k_scores[l]))\n",
    "    \n",
    "    #Collect Mean cross val for each k\n",
    "#         k_mse.append(np.mean(mse_values))\n",
    "#         k_scores.append(np.mean(scores))\n",
    "    \n"
   ]
  },
  {
   "cell_type": "code",
   "execution_count": 11,
   "metadata": {},
   "outputs": [
    {
     "data": {
      "text/plain": [
       "[<matplotlib.lines.Line2D at 0x1c1a5ab2e8>]"
      ]
     },
     "execution_count": 11,
     "metadata": {},
     "output_type": "execute_result"
    },
    {
     "data": {
      "image/png": "[encoded data removed]",
      "text/plain": [
       "<matplotlib.figure.Figure at 0x1c1e0d38d0>"
      ]
     },
     "metadata": {},
     "output_type": "display_data"
    }
   ],
   "source": [
    "plt.figure(figsize = [10,5])\n",
    "plt.subplot(211);\n",
    "plt.plot(k_mse[1:], '.')\n",
    "\n",
    "plt.subplot(212);\n",
    "plt.plot(k_scores[1:], '.')"
   ]
  },
  {
   "cell_type": "code",
   "execution_count": 12,
   "metadata": {},
   "outputs": [
    {
     "name": "stdout",
     "output_type": "stream",
     "text": [
      "~~~~ Single Model ~~~~\n",
      "MSE of single model: 490.90385072958526\n",
      "R2:  0.30358099110400516\n"
     ]
    }
   ],
   "source": [
    "lm = linear_model.LinearRegression().fit(modeldata, y)\n",
    "print(\"~~~~ Single Model ~~~~\")\n",
    "print('MSE of single model:', metrics.mean_squared_error(y, lm.predict(modeldata)))\n",
    "print('R2: ', lm.score(modeldata, y))"
   ]
  },
  {
   "cell_type": "markdown",
   "metadata": {},
   "source": [
    "### Check\n",
    "While the cross validated approach here generated more overall error, which of the two approaches would predict new data more accurately: the single model or the cross validated, averaged one? Why?\n"
   ]
  },
  {
   "cell_type": "markdown",
   "metadata": {},
   "source": [
    "Answer: "
   ]
  },
  {
   "cell_type": "markdown",
   "metadata": {},
   "source": [
    "### There are ways to improve our model with regularization. \n",
    "Let's check out the effects on MSE and R2"
   ]
  },
  {
   "cell_type": "code",
   "execution_count": 13,
   "metadata": {},
   "outputs": [
    {
     "name": "stdout",
     "output_type": "stream",
     "text": [
      "~~~ OLS ~~~\n",
      "OLS MSE:  490.90385072958526\n",
      "OLS R2: 0.30358099110400516\n",
      "~~~ Lasso ~~~\n",
      "Lasso MSE:  567.3704001092815\n",
      "Lasso R2: 0.195101991695954\n",
      "~~~ Ridge ~~~\n",
      "Ridge MSE:  490.98775926918324\n",
      "Ridge R2: 0.3034619545515359\n"
     ]
    }
   ],
   "source": [
    "lm = linear_model.LinearRegression().fit(modeldata, y)\n",
    "print(\"~~~ OLS ~~~\")\n",
    "print(\"OLS MSE: \", metrics.mean_squared_error(y, lm.predict(modeldata)))\n",
    "print('OLS R2:', lm.score(modeldata, y))\n",
    "\n",
    "lm = linear_model.Lasso().fit(modeldata, y)\n",
    "print(\"~~~ Lasso ~~~\")\n",
    "print('Lasso MSE: ', metrics.mean_squared_error(y, lm.predict(modeldata)))\n",
    "print('Lasso R2:', lm.score(modeldata, y))\n",
    "\n",
    "lm = linear_model.Ridge().fit(modeldata, y)\n",
    "print(\"~~~ Ridge ~~~\")\n",
    "print('Ridge MSE: ', metrics.mean_squared_error(y, lm.predict(modeldata)))\n",
    "print('Ridge R2:', lm.score(modeldata, y))"
   ]
  },
  {
   "cell_type": "markdown",
   "metadata": {},
   "source": [
    "### Figuring out the alphas can be done by \"hand\""
   ]
  },
  {
   "cell_type": "code",
   "execution_count": 14,
   "metadata": {},
   "outputs": [
    {
     "name": "stdout",
     "output_type": "stream",
     "text": [
      "Alpha: 1e-10\n",
      "490.90385072958526\n",
      "Alpha: 1e-09\n",
      "490.90385072958526\n",
      "Alpha: 1e-08\n",
      "490.9038507295854\n",
      "Alpha: 1e-07\n",
      "490.9038507295854\n",
      "Alpha: 1e-06\n",
      "490.9038507295855\n",
      "Alpha: 1e-05\n",
      "490.90385072959697\n",
      "Alpha: 0.0001\n",
      "490.90385073074447\n",
      "Alpha: 0.001\n",
      "490.9038508453405\n",
      "Alpha: 0.01\n",
      "490.9038621454921\n",
      "Alpha: 0.1\n",
      "490.90488243242265\n",
      "Alpha: 1.0\n",
      "490.98775926918324\n",
      "Alpha: 10.0\n",
      "496.7023000553054\n",
      "Alpha: 100.0\n",
      "578.8915037466983\n",
      "Alpha: 1000.0\n",
      "675.6847178279737\n",
      "Alpha: 10000.0\n",
      "700.8243107672381\n",
      "Alpha: 100000.0\n",
      "704.4657724323305\n",
      "Alpha: 1000000.0\n",
      "704.8538394808153\n",
      "Alpha: 10000000.0\n",
      "704.8929146176345\n",
      "Alpha: 100000000.0\n",
      "704.8968248487064\n",
      "Alpha: 1000000000.0\n",
      "704.897215899021\n",
      "Alpha: 10000000000.0\n",
      "704.8972550043246\n"
     ]
    }
   ],
   "source": [
    "alphas = np.logspace(-10, 10, 21)\n",
    "mse = []\n",
    "for a in alphas:\n",
    "    print('Alpha:', a)\n",
    "    lm = linear_model.Ridge(alpha=a)\n",
    "    lm.fit(modeldata, y)\n",
    "#     print lm.coef_\n",
    "    mse.append(metrics.mean_squared_error(y, lm.predict(modeldata)))\n",
    "    print(metrics.mean_squared_error(y, lm.predict(modeldata)))"
   ]
  },
  {
   "cell_type": "code",
   "execution_count": 15,
   "metadata": {},
   "outputs": [
    {
     "data": {
      "text/plain": [
       "[<matplotlib.lines.Line2D at 0x1c1d927128>]"
      ]
     },
     "execution_count": 15,
     "metadata": {},
     "output_type": "execute_result"
    },
    {
     "data": {
      "image/png": "[encoded data removed]",
      "text/plain": [
       "<matplotlib.figure.Figure at 0x1c1e0d3630>"
      ]
     },
     "metadata": {},
     "output_type": "display_data"
    }
   ],
   "source": [
    "plt.plot(mse)"
   ]
  },
  {
   "cell_type": "markdown",
   "metadata": {},
   "source": [
    "## Gradient Descent"
   ]
  },
  {
   "cell_type": "code",
   "execution_count": 16,
   "metadata": {},
   "outputs": [
    {
     "name": "stdout",
     "output_type": "stream",
     "text": [
      "1.2000000000000002 is better than 6.2\n",
      "found better solution! using 1.2000000000000002\n",
      "5.0 is closest to 6.2\n"
     ]
    }
   ],
   "source": [
    "num_to_approach, start, steps, optimized = 6.2, 0., [-5, 5], False\n",
    "\n",
    "i = 0\n",
    "\n",
    "while not optimized:\n",
    "    current_distance = num_to_approach - start\n",
    "    got_better = False\n",
    "    next_steps = [start + i for i in steps]\n",
    "    for n in next_steps:\n",
    "        distance = np.abs(num_to_approach - n)\n",
    "        if distance < current_distance:\n",
    "            got_better = True\n",
    "            print(distance, 'is better than', current_distance)\n",
    "            current_distance = distance\n",
    "            start = n\n",
    "    if got_better:\n",
    "        print('found better solution! using', current_distance)\n",
    "        i += 1\n",
    "    else:\n",
    "        optimized = True\n",
    "        print(start, 'is closest to', num_to_approach)"
   ]
  },
  {
   "cell_type": "markdown",
   "metadata": {},
   "source": [
    "### Bonus: \n",
    "implement a stopping point, similar to what n_iter would do in gradient descent when we've reached \"good enough\""
   ]
  },
  {
   "cell_type": "code",
   "execution_count": null,
   "metadata": {},
   "outputs": [],
   "source": [
    "\n",
    "\n"
   ]
  },
  {
   "cell_type": "markdown",
   "metadata": {},
   "source": [
    "## Demo: Application of Gradient Descent "
   ]
  },
  {
   "cell_type": "code",
   "execution_count": 17,
   "metadata": {},
   "outputs": [
    {
     "name": "stdout",
     "output_type": "stream",
     "text": [
      "Gradient Descent R2: 0.1570681299866924\n",
      "Gradient Descent MSE: 594.1803649906127\n"
     ]
    },
    {
     "name": "stderr",
     "output_type": "stream",
     "text": [
      "/anaconda3/lib/python3.6/site-packages/sklearn/linear_model/stochastic_gradient.py:128: FutureWarning: max_iter and tol parameters have been added in <class 'sklearn.linear_model.stochastic_gradient.SGDRegressor'> in 0.19. If both are left unset, they default to max_iter=5 and tol=None. If tol is not None, max_iter defaults to max_iter=1000. From 0.21, default max_iter will be 1000, and default tol will be 1e-3.\n",
      "  \"and default tol will be 1e-3.\" % type(self), FutureWarning)\n"
     ]
    }
   ],
   "source": [
    "lm = linear_model.SGDRegressor()\n",
    "lm.fit(modeldata, y)\n",
    "print(\"Gradient Descent R2:\", lm.score(modeldata, y))\n",
    "print(\"Gradient Descent MSE:\", metrics.mean_squared_error(y, lm.predict(modeldata)))\n"
   ]
  },
  {
   "cell_type": "code",
   "execution_count": 18,
   "metadata": {},
   "outputs": [
    {
     "name": "stdout",
     "output_type": "stream",
     "text": [
      " R2: 0.30358099110400516\n",
      "MSE: 490.90385072958526\n"
     ]
    }
   ],
   "source": [
    "lm = linear_model.LinearRegression()\n",
    "lm.fit(modeldata, y)\n",
    "print(\" R2:\", lm.score(modeldata, y))\n",
    "print(\"MSE:\", metrics.mean_squared_error(y, lm.predict(modeldata)))"
   ]
  },
  {
   "cell_type": "markdown",
   "metadata": {},
   "source": [
    "### Check: Untuned, how well did gradient descent perform compared to OLS?"
   ]
  },
  {
   "cell_type": "markdown",
   "metadata": {},
   "source": [
    "Answer: "
   ]
  },
  {
   "cell_type": "markdown",
   "metadata": {},
   "source": [
    "# Independent Practice: Bike data revisited\n",
    "\n",
    "There are tons of ways to approach a regression problem. The regularization techniques appended to ordinary least squares optimizes the size of coefficients to best account for error. Gradient Descent also introduces learning rate (how aggressively do we solve the problem), epsilon (at what point do we say the error margin is acceptable), and iterations (when should we stop no matter what?)\n",
    "\n",
    "For this deliverable, our goals are to:\n",
    "\n",
    "- implement the gradient descent approach to our bike-share modeling problem,\n",
    "- show how gradient descent solves and optimizes the solution,\n",
    "- demonstrate the grid_search module!\n",
    "\n",
    "While exploring the Gradient Descent regressor object, you'll build a grid search using the stochastic gradient descent estimator for the bike-share data set. Continue with either the model you evaluated last class or the simpler one from today. In particular, be sure to implement the \"param_grid\" in the grid search to get answers for the following questions:\n",
    "\n",
    "- With a set of alpha values between 10^-10 and 10^-1, how does the mean squared error change?\n",
    "- Based on the data, we know when to properly use l1 vs l2 regularization. By using a grid search with l1_ratios between 0 and 1 (increasing every 0.05), does that statement hold true? If not, did gradient descent have enough iterations?\n",
    "- How do these results change when you alter the learning rate (eta0)?\n",
    "\n",
    "**Bonus**: Can you see the advantages and disadvantages of using gradient descent after finishing this exercise?"
   ]
  },
  {
   "cell_type": "markdown",
   "metadata": {},
   "source": [
    "### Starter Code"
   ]
  },
  {
   "cell_type": "code",
   "execution_count": 19,
   "metadata": {},
   "outputs": [
    {
     "ename": "NameError",
     "evalue": "name 'grid_search' is not defined",
     "output_type": "error",
     "traceback": [
      "\u001b[0;31m---------------------------------------------------------------------------\u001b[0m",
      "\u001b[0;31mNameError\u001b[0m                                 Traceback (most recent call last)",
      "\u001b[0;32m<ipython-input-19-60bca6eb276c>\u001b[0m in \u001b[0;36m<module>\u001b[0;34m()\u001b[0m\n\u001b[1;32m      1\u001b[0m \u001b[0mparams\u001b[0m \u001b[0;34m=\u001b[0m \u001b[0;34m{\u001b[0m\u001b[0;34m}\u001b[0m \u001b[0;31m# put your gradient descent parameters here\u001b[0m\u001b[0;34m\u001b[0m\u001b[0m\n\u001b[0;32m----> 2\u001b[0;31m gs = grid_search.GridSearchCV(\n\u001b[0m\u001b[1;32m      3\u001b[0m     \u001b[0mestimator\u001b[0m\u001b[0;34m=\u001b[0m\u001b[0mlinear_model\u001b[0m\u001b[0;34m.\u001b[0m\u001b[0mSGDRegressor\u001b[0m\u001b[0;34m(\u001b[0m\u001b[0;34m)\u001b[0m\u001b[0;34m,\u001b[0m\u001b[0;34m\u001b[0m\u001b[0m\n\u001b[1;32m      4\u001b[0m     \u001b[0mcv\u001b[0m\u001b[0;34m=\u001b[0m\u001b[0mcross_validation\u001b[0m\u001b[0;34m.\u001b[0m\u001b[0mKFold\u001b[0m\u001b[0;34m(\u001b[0m\u001b[0mlen\u001b[0m\u001b[0;34m(\u001b[0m\u001b[0mmodeldata\u001b[0m\u001b[0;34m)\u001b[0m\u001b[0;34m,\u001b[0m \u001b[0mn_folds\u001b[0m\u001b[0;34m=\u001b[0m\u001b[0;36m5\u001b[0m\u001b[0;34m,\u001b[0m \u001b[0mshuffle\u001b[0m\u001b[0;34m=\u001b[0m\u001b[0;32mTrue\u001b[0m\u001b[0;34m)\u001b[0m\u001b[0;34m,\u001b[0m\u001b[0;34m\u001b[0m\u001b[0m\n\u001b[1;32m      5\u001b[0m     \u001b[0mparam_grid\u001b[0m\u001b[0;34m=\u001b[0m\u001b[0mparams\u001b[0m\u001b[0;34m,\u001b[0m\u001b[0;34m\u001b[0m\u001b[0m\n",
      "\u001b[0;31mNameError\u001b[0m: name 'grid_search' is not defined"
     ]
    }
   ],
   "source": [
    "params = {} # put your gradient descent parameters here\n",
    "gs = grid_search.GridSearchCV(\n",
    "    estimator=linear_model.SGDRegressor(),\n",
    "    cv=cross_validation.KFold(len(modeldata), n_folds=5, shuffle=True),\n",
    "    param_grid=params,\n",
    "    scoring='mean_squared_error',\n",
    "    )\n",
    "\n",
    "gs.fit(modeldata, y)\n",
    "\n",
    "print('BEST ESTIMATOR')\n",
    "print(-gs.best_score_)\n",
    "print(gs.best_estimator_)\n",
    "print('ALL ESTIMATORS')\n",
    "print(gs.grid_scores_)"
   ]
  },
  {
   "cell_type": "code",
   "execution_count": null,
   "metadata": {},
   "outputs": [],
   "source": [
    "## go for it!"
   ]
  },
  {
   "cell_type": "code",
   "execution_count": null,
   "metadata": {},
   "outputs": [],
   "source": []
  }
 ],
 "metadata": {
  "kernelspec": {
   "display_name": "Python 3",
   "language": "python",
   "name": "python3"
  },
  "language_info": {
   "codemirror_mode": {
    "name": "ipython",
    "version": 3
   },
   "file_extension": ".py",
   "mimetype": "text/x-python",
   "name": "python",
   "nbconvert_exporter": "python",
   "pygments_lexer": "ipython3",
   "version": "3.6.4"
  }
 },
 "nbformat": 4,
 "nbformat_minor": 1
}
