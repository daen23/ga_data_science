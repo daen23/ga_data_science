{
 "cells": [
  {
   "cell_type": "markdown",
   "metadata": {},
   "source": [
    "# Project 3\n",
    "\n",
    "In this project, you will perform a logistic regression on the admissions data we've been working with in projects 1 and 2."
   ]
  },
  {
   "cell_type": "code",
   "execution_count": 1,
   "metadata": {},
   "outputs": [
    {
     "name": "stderr",
     "output_type": "stream",
     "text": [
      "/Users/dean/anaconda/lib/python2.7/site-packages/statsmodels/compat/pandas.py:56: FutureWarning: The pandas.core.datetools module is deprecated and will be removed in a future version. Please use the pandas.tseries module instead.\n",
      "  from pandas.core import datetools\n"
     ]
    }
   ],
   "source": [
    "import pandas as pd\n",
    "import numpy as np\n",
    "import statsmodels.api as sm\n",
    "%matplotlib inline"
   ]
  },
  {
   "cell_type": "code",
   "execution_count": 2,
   "metadata": {},
   "outputs": [
    {
     "name": "stdout",
     "output_type": "stream",
     "text": [
      "   admit    gre   gpa  prestige\n",
      "0      0  380.0  3.61       3.0\n",
      "1      1  660.0  3.67       3.0\n",
      "2      1  800.0  4.00       1.0\n",
      "3      1  640.0  3.19       4.0\n",
      "4      0  520.0  2.93       4.0\n"
     ]
    }
   ],
   "source": [
    "#dropping data that is null\n",
    "df_raw = pd.read_csv(\"~/Dropbox/GA Data Science Course/Project Work/Project 3/admissions.csv\")\n",
    "df = df_raw.dropna() \n",
    "print df.head()"
   ]
  },
  {
   "cell_type": "markdown",
   "metadata": {},
   "source": [
    "## Part 1. Frequency Tables\n",
    "\n",
    "#### 1. Let's create a frequency table of our variables"
   ]
  },
  {
   "cell_type": "code",
   "execution_count": 3,
   "metadata": {},
   "outputs": [
    {
     "data": {
      "text/html": [
       "<div>\n",
       "<style scoped>\n",
       "    .dataframe tbody tr th:only-of-type {\n",
       "        vertical-align: middle;\n",
       "    }\n",
       "\n",
       "    .dataframe tbody tr th {\n",
       "        vertical-align: top;\n",
       "    }\n",
       "\n",
       "    .dataframe thead th {\n",
       "        text-align: right;\n",
       "    }\n",
       "</style>\n",
       "<table border=\"1\" class=\"dataframe\">\n",
       "  <thead>\n",
       "    <tr style=\"text-align: right;\">\n",
       "      <th></th>\n",
       "      <th></th>\n",
       "      <th>gpa</th>\n",
       "    </tr>\n",
       "    <tr>\n",
       "      <th>prestige</th>\n",
       "      <th>admit</th>\n",
       "      <th></th>\n",
       "    </tr>\n",
       "  </thead>\n",
       "  <tbody>\n",
       "    <tr>\n",
       "      <th rowspan=\"2\" valign=\"top\">1.0</th>\n",
       "      <th>0</th>\n",
       "      <td>28</td>\n",
       "    </tr>\n",
       "    <tr>\n",
       "      <th>1</th>\n",
       "      <td>33</td>\n",
       "    </tr>\n",
       "    <tr>\n",
       "      <th rowspan=\"2\" valign=\"top\">2.0</th>\n",
       "      <th>0</th>\n",
       "      <td>95</td>\n",
       "    </tr>\n",
       "    <tr>\n",
       "      <th>1</th>\n",
       "      <td>53</td>\n",
       "    </tr>\n",
       "    <tr>\n",
       "      <th rowspan=\"2\" valign=\"top\">3.0</th>\n",
       "      <th>0</th>\n",
       "      <td>93</td>\n",
       "    </tr>\n",
       "    <tr>\n",
       "      <th>1</th>\n",
       "      <td>28</td>\n",
       "    </tr>\n",
       "    <tr>\n",
       "      <th rowspan=\"2\" valign=\"top\">4.0</th>\n",
       "      <th>0</th>\n",
       "      <td>55</td>\n",
       "    </tr>\n",
       "    <tr>\n",
       "      <th>1</th>\n",
       "      <td>12</td>\n",
       "    </tr>\n",
       "  </tbody>\n",
       "</table>\n",
       "</div>"
      ],
      "text/plain": [
       "                gpa\n",
       "prestige admit     \n",
       "1.0      0       28\n",
       "         1       33\n",
       "2.0      0       95\n",
       "         1       53\n",
       "3.0      0       93\n",
       "         1       28\n",
       "4.0      0       55\n",
       "         1       12"
      ]
     },
     "execution_count": 3,
     "metadata": {},
     "output_type": "execute_result"
    }
   ],
   "source": [
    "# frequency table for prestige and whether or not someone was admitted\n",
    "df.groupby(['prestige', 'admit']).count().drop('gre', axis=1)"
   ]
  },
  {
   "cell_type": "markdown",
   "metadata": {},
   "source": [
    "## Part 2. Return of dummy variables"
   ]
  },
  {
   "cell_type": "markdown",
   "metadata": {},
   "source": [
    "#### 2.1 Create class or dummy variables for prestige "
   ]
  },
  {
   "cell_type": "code",
   "execution_count": 4,
   "metadata": {},
   "outputs": [],
   "source": [
    "df_update=pd.get_dummies(data=df, columns=['prestige'])"
   ]
  },
  {
   "cell_type": "code",
   "execution_count": 5,
   "metadata": {},
   "outputs": [
    {
     "data": {
      "text/html": [
       "<div>\n",
       "<style scoped>\n",
       "    .dataframe tbody tr th:only-of-type {\n",
       "        vertical-align: middle;\n",
       "    }\n",
       "\n",
       "    .dataframe tbody tr th {\n",
       "        vertical-align: top;\n",
       "    }\n",
       "\n",
       "    .dataframe thead th {\n",
       "        text-align: right;\n",
       "    }\n",
       "</style>\n",
       "<table border=\"1\" class=\"dataframe\">\n",
       "  <thead>\n",
       "    <tr style=\"text-align: right;\">\n",
       "      <th></th>\n",
       "      <th>admit</th>\n",
       "      <th>gre</th>\n",
       "      <th>gpa</th>\n",
       "      <th>prestige_1.0</th>\n",
       "      <th>prestige_2.0</th>\n",
       "      <th>prestige_3.0</th>\n",
       "      <th>prestige_4.0</th>\n",
       "    </tr>\n",
       "  </thead>\n",
       "  <tbody>\n",
       "    <tr>\n",
       "      <th>0</th>\n",
       "      <td>0</td>\n",
       "      <td>380.0</td>\n",
       "      <td>3.61</td>\n",
       "      <td>0</td>\n",
       "      <td>0</td>\n",
       "      <td>1</td>\n",
       "      <td>0</td>\n",
       "    </tr>\n",
       "    <tr>\n",
       "      <th>1</th>\n",
       "      <td>1</td>\n",
       "      <td>660.0</td>\n",
       "      <td>3.67</td>\n",
       "      <td>0</td>\n",
       "      <td>0</td>\n",
       "      <td>1</td>\n",
       "      <td>0</td>\n",
       "    </tr>\n",
       "    <tr>\n",
       "      <th>2</th>\n",
       "      <td>1</td>\n",
       "      <td>800.0</td>\n",
       "      <td>4.00</td>\n",
       "      <td>1</td>\n",
       "      <td>0</td>\n",
       "      <td>0</td>\n",
       "      <td>0</td>\n",
       "    </tr>\n",
       "    <tr>\n",
       "      <th>3</th>\n",
       "      <td>1</td>\n",
       "      <td>640.0</td>\n",
       "      <td>3.19</td>\n",
       "      <td>0</td>\n",
       "      <td>0</td>\n",
       "      <td>0</td>\n",
       "      <td>1</td>\n",
       "    </tr>\n",
       "    <tr>\n",
       "      <th>4</th>\n",
       "      <td>0</td>\n",
       "      <td>520.0</td>\n",
       "      <td>2.93</td>\n",
       "      <td>0</td>\n",
       "      <td>0</td>\n",
       "      <td>0</td>\n",
       "      <td>1</td>\n",
       "    </tr>\n",
       "  </tbody>\n",
       "</table>\n",
       "</div>"
      ],
      "text/plain": [
       "   admit    gre   gpa  prestige_1.0  prestige_2.0  prestige_3.0  prestige_4.0\n",
       "0      0  380.0  3.61             0             0             1             0\n",
       "1      1  660.0  3.67             0             0             1             0\n",
       "2      1  800.0  4.00             1             0             0             0\n",
       "3      1  640.0  3.19             0             0             0             1\n",
       "4      0  520.0  2.93             0             0             0             1"
      ]
     },
     "execution_count": 5,
     "metadata": {},
     "output_type": "execute_result"
    }
   ],
   "source": [
    "df_update.head()"
   ]
  },
  {
   "cell_type": "markdown",
   "metadata": {},
   "source": [
    "#### 2.2 When modeling our class variables, how many do we need? \n",
    "\n"
   ]
  },
  {
   "cell_type": "markdown",
   "metadata": {},
   "source": [
    "<b>Answer:</b> Assuming class refers to prestige, We need n-1 dummy variables, where n is the number of unique choices/categories within the variable. This will avoid the model crashing due to perfect collinearity between dummy variables. \n",
    "\n",
    "\n",
    "For now, we'll keep prestige_1.0 for the purposes of hand calculating odds ratios. "
   ]
  },
  {
   "cell_type": "markdown",
   "metadata": {},
   "source": [
    "## Part 3. Hand calculating odds ratios\n",
    "\n",
    "Develop your intuition about expected outcomes by hand calculating odds ratios."
   ]
  },
  {
   "cell_type": "code",
   "execution_count": 6,
   "metadata": {},
   "outputs": [
    {
     "name": "stdout",
     "output_type": "stream",
     "text": [
      "   admit    gre   gpa  prestige_1.0  prestige_2.0  prestige_3.0  prestige_4.0\n",
      "0      0  380.0  3.61             0             0             1             0\n",
      "1      1  660.0  3.67             0             0             1             0\n",
      "2      1  800.0  4.00             1             0             0             0\n",
      "3      1  640.0  3.19             0             0             0             1\n",
      "4      0  520.0  2.93             0             0             0             1\n"
     ]
    }
   ],
   "source": [
    "cols_to_keep = ['admit', 'gre', 'gpa']\n",
    "handCalc = df[cols_to_keep].join(df_update.loc[:,'prestige_1.0':])\n",
    "print handCalc.head()"
   ]
  },
  {
   "cell_type": "code",
   "execution_count": 7,
   "metadata": {},
   "outputs": [
    {
     "data": {
      "text/html": [
       "<div>\n",
       "<style scoped>\n",
       "    .dataframe tbody tr th:only-of-type {\n",
       "        vertical-align: middle;\n",
       "    }\n",
       "\n",
       "    .dataframe tbody tr th {\n",
       "        vertical-align: top;\n",
       "    }\n",
       "\n",
       "    .dataframe thead th {\n",
       "        text-align: right;\n",
       "    }\n",
       "</style>\n",
       "<table border=\"1\" class=\"dataframe\">\n",
       "  <thead>\n",
       "    <tr style=\"text-align: right;\">\n",
       "      <th>prestige_1.0</th>\n",
       "      <th>0</th>\n",
       "      <th>1</th>\n",
       "      <th>All</th>\n",
       "    </tr>\n",
       "    <tr>\n",
       "      <th>admit</th>\n",
       "      <th></th>\n",
       "      <th></th>\n",
       "      <th></th>\n",
       "    </tr>\n",
       "  </thead>\n",
       "  <tbody>\n",
       "    <tr>\n",
       "      <th>0</th>\n",
       "      <td>243</td>\n",
       "      <td>28</td>\n",
       "      <td>271</td>\n",
       "    </tr>\n",
       "    <tr>\n",
       "      <th>1</th>\n",
       "      <td>93</td>\n",
       "      <td>33</td>\n",
       "      <td>126</td>\n",
       "    </tr>\n",
       "    <tr>\n",
       "      <th>All</th>\n",
       "      <td>336</td>\n",
       "      <td>61</td>\n",
       "      <td>397</td>\n",
       "    </tr>\n",
       "  </tbody>\n",
       "</table>\n",
       "</div>"
      ],
      "text/plain": [
       "prestige_1.0    0   1  All\n",
       "admit                     \n",
       "0             243  28  271\n",
       "1              93  33  126\n",
       "All           336  61  397"
      ]
     },
     "execution_count": 7,
     "metadata": {},
     "output_type": "execute_result"
    }
   ],
   "source": [
    "#crosstab prestige 1 admission \n",
    "#frequency table cutting prestige and whether or not someone was admitted\n",
    "ct1 = pd.crosstab(handCalc['admit'], handCalc['prestige_1.0'], margins=True)\n",
    "ct1"
   ]
  },
  {
   "cell_type": "markdown",
   "metadata": {},
   "source": [
    "#### 3.1 Use the cross tab above to calculate the odds of being admitted to grad school if you attended a #1 ranked college"
   ]
  },
  {
   "cell_type": "code",
   "execution_count": 8,
   "metadata": {},
   "outputs": [
    {
     "name": "stdout",
     "output_type": "stream",
     "text": [
      "Likelihood of being admitted to grad school if attended #1 rank college: 54.1%\n"
     ]
    }
   ],
   "source": [
    "#admitted and prestige class 1\n",
    "admit_true = ct1[1][1]\n",
    "#number of prestige class 1 students\n",
    "students = ct1[1][2]\n",
    "#% of people that attended prestige 1 and were admitted\n",
    "prestige1 = float(admit_true)/students\n",
    "print 'Likelihood of being admitted to grad school if attended #1 rank college: ' + str(round(prestige1*100, 2))+ \"%\""
   ]
  },
  {
   "cell_type": "markdown",
   "metadata": {},
   "source": [
    "#### 3.2 Now calculate the odds of admission if you did not attend a #1 ranked college"
   ]
  },
  {
   "cell_type": "code",
   "execution_count": 9,
   "metadata": {},
   "outputs": [
    {
     "name": "stdout",
     "output_type": "stream",
     "text": [
      "Likelihood of being admitted to grad school if not attended #1 rank college: 27.68%\n"
     ]
    }
   ],
   "source": [
    "#admitted and not prestige class 1\n",
    "admit_true = ct1[0][1]\n",
    "#number of students admitted\n",
    "students = ct1[0][2]\n",
    "#% of people that attended prestige 1 and were admitted\n",
    "prestige_non_1 = float(admit_true)/students\n",
    "print 'Likelihood of being admitted to grad school if not attended #1 rank college: ' + str(round(prestige_non_1*100, 2))+ \"%\""
   ]
  },
  {
   "cell_type": "markdown",
   "metadata": {},
   "source": [
    "#### 3.3 Calculate the odds ratio"
   ]
  },
  {
   "cell_type": "code",
   "execution_count": 10,
   "metadata": {},
   "outputs": [
    {
     "name": "stdout",
     "output_type": "stream",
     "text": [
      "Odds ratio is 1.95452141724\n"
     ]
    }
   ],
   "source": [
    "#Odds Ratio\n",
    "print \"Odds ratio is \" + str(prestige1/prestige_non_1)"
   ]
  },
  {
   "cell_type": "markdown",
   "metadata": {},
   "source": [
    "#### 3.4 Write this finding in a sentence: "
   ]
  },
  {
   "cell_type": "markdown",
   "metadata": {},
   "source": [
    "<b>Answer:</b> All other factors held constant, the odds ratio of 1.95 indicates that a student who attends a #1 rank college is 1.95 times more likely to be admitted to grad school versus a student that does not attend a #1 rank college (or put another way, a student that attends a prestige class 1 school is 95% more likely to be admitted than a student who does not attend a prestige class 1 school). "
   ]
  },
  {
   "cell_type": "markdown",
   "metadata": {},
   "source": [
    "#### 3.5 Print the cross tab for prestige_4"
   ]
  },
  {
   "cell_type": "code",
   "execution_count": 11,
   "metadata": {},
   "outputs": [
    {
     "data": {
      "text/html": [
       "<div>\n",
       "<style scoped>\n",
       "    .dataframe tbody tr th:only-of-type {\n",
       "        vertical-align: middle;\n",
       "    }\n",
       "\n",
       "    .dataframe tbody tr th {\n",
       "        vertical-align: top;\n",
       "    }\n",
       "\n",
       "    .dataframe thead th {\n",
       "        text-align: right;\n",
       "    }\n",
       "</style>\n",
       "<table border=\"1\" class=\"dataframe\">\n",
       "  <thead>\n",
       "    <tr style=\"text-align: right;\">\n",
       "      <th>prestige_4.0</th>\n",
       "      <th>0</th>\n",
       "      <th>1</th>\n",
       "      <th>All</th>\n",
       "    </tr>\n",
       "    <tr>\n",
       "      <th>admit</th>\n",
       "      <th></th>\n",
       "      <th></th>\n",
       "      <th></th>\n",
       "    </tr>\n",
       "  </thead>\n",
       "  <tbody>\n",
       "    <tr>\n",
       "      <th>0</th>\n",
       "      <td>216</td>\n",
       "      <td>55</td>\n",
       "      <td>271</td>\n",
       "    </tr>\n",
       "    <tr>\n",
       "      <th>1</th>\n",
       "      <td>114</td>\n",
       "      <td>12</td>\n",
       "      <td>126</td>\n",
       "    </tr>\n",
       "    <tr>\n",
       "      <th>All</th>\n",
       "      <td>330</td>\n",
       "      <td>67</td>\n",
       "      <td>397</td>\n",
       "    </tr>\n",
       "  </tbody>\n",
       "</table>\n",
       "</div>"
      ],
      "text/plain": [
       "prestige_4.0    0   1  All\n",
       "admit                     \n",
       "0             216  55  271\n",
       "1             114  12  126\n",
       "All           330  67  397"
      ]
     },
     "execution_count": 11,
     "metadata": {},
     "output_type": "execute_result"
    }
   ],
   "source": [
    "#crosstab prestige 4 admission \n",
    "#frequency table cutting prestige and whether or not someone was admitted\n",
    "ct2 = pd.crosstab(handCalc['admit'], handCalc['prestige_4.0'],  margins=True)\n",
    "ct2"
   ]
  },
  {
   "cell_type": "markdown",
   "metadata": {},
   "source": [
    "#### 3.6 Calculate the OR "
   ]
  },
  {
   "cell_type": "code",
   "execution_count": 12,
   "metadata": {},
   "outputs": [
    {
     "name": "stdout",
     "output_type": "stream",
     "text": [
      "Likelihood of being admitted to grad school if attended #4 rank college: 17.91%\n",
      "Likelihood of being admitted to grad school if not attended #4 rank college: 34.55%\n",
      "The odds ratio is 0.518\n"
     ]
    }
   ],
   "source": [
    "#Probability of being admitted if you're prestige 4 (p)\n",
    "prestige4 = float(ct2[1][1])/ct2[1][2]\n",
    "print 'Likelihood of being admitted to grad school if attended #4 rank college: ' + str(round(prestige4*100, 2))+ \"%\"\n",
    "\n",
    "#Probability of being admitted if you're not prestige 4\n",
    "non_prestige4 = float(ct2[0][1])/ct2[0][2]\n",
    "print 'Likelihood of being admitted to grad school if not attended #4 rank college: ' + str(round((non_prestige4)*100, 2))+ \"%\"\n",
    "\n",
    "#Odds Ratio = p/(1-p)\n",
    "print 'The odds ratio is ' + str(round(prestige4/non_prestige4, 3))"
   ]
  },
  {
   "cell_type": "markdown",
   "metadata": {},
   "source": [
    "#### 3.7 Write this finding in a sentence"
   ]
  },
  {
   "cell_type": "markdown",
   "metadata": {},
   "source": [
    "<b>Answer:</b> All other factors equal, students that attend a Prestige Class 4 school are only half as likely (0.52 times as likely) to be admitted into grad school compared to students who attend a school where prestige is higher than class 4. "
   ]
  },
  {
   "cell_type": "markdown",
   "metadata": {},
   "source": [
    "## Part 4. Analysis"
   ]
  },
  {
   "cell_type": "code",
   "execution_count": 13,
   "metadata": {},
   "outputs": [
    {
     "name": "stdout",
     "output_type": "stream",
     "text": [
      "   admit    gre   gpa  prestige_2.0  prestige_3.0  prestige_4.0\n",
      "0      0  380.0  3.61             0             1             0\n",
      "1      1  660.0  3.67             0             1             0\n",
      "2      1  800.0  4.00             0             0             0\n",
      "3      1  640.0  3.19             0             0             1\n",
      "4      0  520.0  2.93             0             0             1\n"
     ]
    }
   ],
   "source": [
    "# create a clean data frame for the regression\n",
    "cols_to_keep = ['admit', 'gre', 'gpa']\n",
    "data = df[cols_to_keep].join(df_update.loc[:, 'prestige_2.0':])\n",
    "print data.head()"
   ]
  },
  {
   "cell_type": "markdown",
   "metadata": {},
   "source": [
    "We're going to add a constant term for our Logistic Regression. The statsmodels function we're going to be using requires that intercepts/constants are specified explicitly."
   ]
  },
  {
   "cell_type": "code",
   "execution_count": 14,
   "metadata": {},
   "outputs": [],
   "source": [
    "# manually add the intercept\n",
    "data['intercept'] = 1.0"
   ]
  },
  {
   "cell_type": "markdown",
   "metadata": {},
   "source": [
    "#### 4.1 Set the covariates to a variable called train_cols"
   ]
  },
  {
   "cell_type": "code",
   "execution_count": 15,
   "metadata": {},
   "outputs": [
    {
     "data": {
      "text/plain": [
       "['gre', 'gpa', 'prestige_2.0', 'prestige_3.0', 'prestige_4.0', 'intercept']"
      ]
     },
     "execution_count": 15,
     "metadata": {},
     "output_type": "execute_result"
    }
   ],
   "source": [
    "train_cols = data.columns[1:]\n",
    "train_cols.tolist()"
   ]
  },
  {
   "cell_type": "markdown",
   "metadata": {},
   "source": [
    "#### 4.2 Fit the model"
   ]
  },
  {
   "cell_type": "code",
   "execution_count": 16,
   "metadata": {},
   "outputs": [
    {
     "name": "stdout",
     "output_type": "stream",
     "text": [
      "Optimization terminated successfully.\n",
      "         Current function value: 0.573854\n",
      "         Iterations 6\n"
     ]
    }
   ],
   "source": [
    "logit = sm.Logit(data['admit'], data[train_cols])\n",
    "\n",
    "# fit the model\n",
    "result = logit.fit()"
   ]
  },
  {
   "cell_type": "markdown",
   "metadata": {},
   "source": [
    "#### 4.3 Print the summary results"
   ]
  },
  {
   "cell_type": "code",
   "execution_count": 17,
   "metadata": {},
   "outputs": [
    {
     "data": {
      "text/html": [
       "<table class=\"simpletable\">\n",
       "<tr>\n",
       "        <td>Model:</td>              <td>Logit</td>       <td>No. Iterations:</td>   <td>6.0000</td> \n",
       "</tr>\n",
       "<tr>\n",
       "  <td>Dependent Variable:</td>       <td>admit</td>      <td>Pseudo R-squared:</td>   <td>0.082</td> \n",
       "</tr>\n",
       "<tr>\n",
       "         <td>Date:</td>        <td>2018-04-29 21:31</td>       <td>AIC:</td>        <td>467.6399</td>\n",
       "</tr>\n",
       "<tr>\n",
       "   <td>No. Observations:</td>         <td>397</td>             <td>BIC:</td>        <td>491.5435</td>\n",
       "</tr>\n",
       "<tr>\n",
       "       <td>Df Model:</td>              <td>5</td>         <td>Log-Likelihood:</td>   <td>-227.82</td>\n",
       "</tr>\n",
       "<tr>\n",
       "     <td>Df Residuals:</td>           <td>391</td>           <td>LL-Null:</td>       <td>-248.08</td>\n",
       "</tr>\n",
       "<tr>\n",
       "      <td>Converged:</td>           <td>1.0000</td>           <td>Scale:</td>        <td>1.0000</td> \n",
       "</tr>\n",
       "</table>\n",
       "<table class=\"simpletable\">\n",
       "<tr>\n",
       "        <td></td>        <th>Coef.</th>  <th>Std.Err.</th>    <th>z</th>     <th>P>|z|</th> <th>[0.025</th>  <th>0.975]</th> \n",
       "</tr>\n",
       "<tr>\n",
       "  <th>gre</th>          <td>0.0022</td>   <td>0.0011</td>  <td>2.0280</td>  <td>0.0426</td> <td>0.0001</td>  <td>0.0044</td> \n",
       "</tr>\n",
       "<tr>\n",
       "  <th>gpa</th>          <td>0.7793</td>   <td>0.3325</td>  <td>2.3438</td>  <td>0.0191</td> <td>0.1276</td>  <td>1.4311</td> \n",
       "</tr>\n",
       "<tr>\n",
       "  <th>prestige_2.0</th> <td>-0.6801</td>  <td>0.3169</td>  <td>-2.1459</td> <td>0.0319</td> <td>-1.3013</td> <td>-0.0589</td>\n",
       "</tr>\n",
       "<tr>\n",
       "  <th>prestige_3.0</th> <td>-1.3387</td>  <td>0.3449</td>  <td>-3.8819</td> <td>0.0001</td> <td>-2.0146</td> <td>-0.6628</td>\n",
       "</tr>\n",
       "<tr>\n",
       "  <th>prestige_4.0</th> <td>-1.5534</td>  <td>0.4175</td>  <td>-3.7211</td> <td>0.0002</td> <td>-2.3716</td> <td>-0.7352</td>\n",
       "</tr>\n",
       "<tr>\n",
       "  <th>intercept</th>    <td>-3.8769</td>  <td>1.1425</td>  <td>-3.3934</td> <td>0.0007</td> <td>-6.1161</td> <td>-1.6376</td>\n",
       "</tr>\n",
       "</table>"
      ],
      "text/plain": [
       "<class 'statsmodels.iolib.summary2.Summary'>\n",
       "\"\"\"\n",
       "                        Results: Logit\n",
       "===============================================================\n",
       "Model:              Logit            No. Iterations:   6.0000  \n",
       "Dependent Variable: admit            Pseudo R-squared: 0.082   \n",
       "Date:               2018-04-29 21:31 AIC:              467.6399\n",
       "No. Observations:   397              BIC:              491.5435\n",
       "Df Model:           5                Log-Likelihood:   -227.82 \n",
       "Df Residuals:       391              LL-Null:          -248.08 \n",
       "Converged:          1.0000           Scale:            1.0000  \n",
       "---------------------------------------------------------------\n",
       "                 Coef.  Std.Err.    z    P>|z|   [0.025  0.975]\n",
       "---------------------------------------------------------------\n",
       "gre              0.0022   0.0011  2.0280 0.0426  0.0001  0.0044\n",
       "gpa              0.7793   0.3325  2.3438 0.0191  0.1276  1.4311\n",
       "prestige_2.0    -0.6801   0.3169 -2.1459 0.0319 -1.3013 -0.0589\n",
       "prestige_3.0    -1.3387   0.3449 -3.8819 0.0001 -2.0146 -0.6628\n",
       "prestige_4.0    -1.5534   0.4175 -3.7211 0.0002 -2.3716 -0.7352\n",
       "intercept       -3.8769   1.1425 -3.3934 0.0007 -6.1161 -1.6376\n",
       "===============================================================\n",
       "\n",
       "\"\"\""
      ]
     },
     "execution_count": 17,
     "metadata": {},
     "output_type": "execute_result"
    }
   ],
   "source": [
    "#show the outputs\n",
    "result.summary2()"
   ]
  },
  {
   "cell_type": "markdown",
   "metadata": {},
   "source": [
    "#### 4.4 Calculate the odds ratios of the coefficients and their 95% CI intervals\n",
    "\n",
    "hint 1: np.exp(X)\n",
    "\n",
    "hint 2: conf['OR'] = params\n",
    "        \n",
    "           conf.columns = ['2.5%', '97.5%', 'OR']"
   ]
  },
  {
   "cell_type": "code",
   "execution_count": 18,
   "metadata": {},
   "outputs": [
    {
     "name": "stdout",
     "output_type": "stream",
     "text": [
      "                  2.5%     97.5%        OR\n",
      "gre           1.000074  1.004372  1.002221\n",
      "gpa           1.136120  4.183113  2.180027\n",
      "prestige_2.0  0.272168  0.942767  0.506548\n",
      "prestige_3.0  0.133377  0.515419  0.262192\n",
      "prestige_4.0  0.093329  0.479411  0.211525\n",
      "intercept     0.002207  0.194440  0.020716\n"
     ]
    }
   ],
   "source": [
    "# odds ratios and 95% CI\n",
    "params = result.params\n",
    "\n",
    "conf = result.conf_int()\n",
    "conf['OR'] = params\n",
    "conf.columns = ['2.5%', '97.5%', 'OR']\n",
    "print np.exp(conf)"
   ]
  },
  {
   "cell_type": "markdown",
   "metadata": {},
   "source": [
    "#### 4.5 Interpret the OR of Prestige_2"
   ]
  },
  {
   "cell_type": "markdown",
   "metadata": {},
   "source": [
    "<b>Answer:</b> All other factors equal, compared to Prestige Class 1, students in Prestige Class 2 are only 0.51 times as likely to be admitted to graduate school."
   ]
  },
  {
   "cell_type": "markdown",
   "metadata": {},
   "source": [
    "#### 4.6 Interpret the OR of GPA"
   ]
  },
  {
   "cell_type": "markdown",
   "metadata": {},
   "source": [
    "<b>Answer:</b> Holding all else equal, as GPA increases by one point, students are 2.18 times more likely to be admitted. "
   ]
  },
  {
   "cell_type": "markdown",
   "metadata": {},
   "source": [
    "## Part 5: Predicted probablities\n"
   ]
  },
  {
   "cell_type": "markdown",
   "metadata": {},
   "source": [
    "As a way of evaluating our classifier, we're going to recreate the dataset with every logical combination of input values. This will allow us to see how the predicted probability of admission increases/decreases across different variables. First we're going to generate the combinations using a helper function called cartesian (above).\n",
    "\n",
    "We're going to use np.linspace to create a range of values for \"gre\" and \"gpa\". This creates a range of linearly spaced values from a specified min and maximum value--in our case just the min/max observed values."
   ]
  },
  {
   "cell_type": "code",
   "execution_count": 19,
   "metadata": {},
   "outputs": [],
   "source": [
    "def cartesian(arrays, out=None):\n",
    "    arrays = [np.asarray(x) for x in arrays]\n",
    "    dtype = arrays[0].dtype\n",
    "\n",
    "    n = np.prod([x.size for x in arrays])\n",
    "    \n",
    "    if out is None:\n",
    "        out = np.zeros([n, len(arrays)], dtype=dtype)\n",
    "\n",
    "    m = n / arrays[0].size\n",
    "    out[:,0] = np.repeat(arrays[0], m)\n",
    "   \n",
    "    if arrays[1:]:\n",
    "        cartesian(arrays[1:], out=out[0:m,1:])\n",
    "        for j in xrange(1, arrays[0].size):\n",
    "            out[j*m:(j+1)*m,1:] = out[0:m,1:]\n",
    "    \n",
    "    return out"
   ]
  },
  {
   "cell_type": "code",
   "execution_count": 20,
   "metadata": {
    "scrolled": true
   },
   "outputs": [
    {
     "name": "stdout",
     "output_type": "stream",
     "text": [
      "[220.         284.44444444 348.88888889 413.33333333 477.77777778\n",
      " 542.22222222 606.66666667 671.11111111 735.55555556 800.        ]\n",
      "[2.26       2.45333333 2.64666667 2.84       3.03333333 3.22666667\n",
      " 3.42       3.61333333 3.80666667 4.        ]\n"
     ]
    }
   ],
   "source": [
    "# instead of generating all possible values of GRE and GPA, we're going \n",
    "# to use an evenly spaced range of 10 values from the min to the max \n",
    "gres = np.linspace(data['gre'].min(), data['gre'].max(), 10)\n",
    "print(gres)\n",
    "\n",
    "gpas = np.linspace(data['gpa'].min(), data['gpa'].max(), 10)\n",
    "print(gpas)\n",
    "\n",
    "# enumerate all possibilities\n",
    "combos = pd.DataFrame(cartesian([gres, gpas, [1, 2, 3, 4], [1.]]))"
   ]
  },
  {
   "cell_type": "markdown",
   "metadata": {},
   "source": [
    "#### 5.1 Recreate the dummy variables"
   ]
  },
  {
   "cell_type": "code",
   "execution_count": 21,
   "metadata": {},
   "outputs": [],
   "source": [
    "# recreate the dummy variables & keep only what we need for making predictions\n",
    "combos.columns = ['gre', 'gpa', 'prestige', 'intercept']\n",
    "dummy_ranks = pd.get_dummies(combos['prestige'], prefix='prestige', drop_first=True)\n",
    "dummy_ranks.columns = ['prestige_2.0', 'prestige_3.0', 'prestige_4.0']\n",
    "combos = combos.join(dummy_ranks)\n",
    "combos.drop('prestige', axis=1, inplace=True)"
   ]
  },
  {
   "cell_type": "markdown",
   "metadata": {},
   "source": [
    "#### 5.2 Make predictions on the enumerated dataset"
   ]
  },
  {
   "cell_type": "code",
   "execution_count": 22,
   "metadata": {},
   "outputs": [
    {
     "data": {
      "text/html": [
       "<div>\n",
       "<style scoped>\n",
       "    .dataframe tbody tr th:only-of-type {\n",
       "        vertical-align: middle;\n",
       "    }\n",
       "\n",
       "    .dataframe tbody tr th {\n",
       "        vertical-align: top;\n",
       "    }\n",
       "\n",
       "    .dataframe thead th {\n",
       "        text-align: right;\n",
       "    }\n",
       "</style>\n",
       "<table border=\"1\" class=\"dataframe\">\n",
       "  <thead>\n",
       "    <tr style=\"text-align: right;\">\n",
       "      <th></th>\n",
       "      <th>gre</th>\n",
       "      <th>gpa</th>\n",
       "      <th>intercept</th>\n",
       "      <th>prestige_2.0</th>\n",
       "      <th>prestige_3.0</th>\n",
       "      <th>prestige_4.0</th>\n",
       "      <th>admit_pred</th>\n",
       "    </tr>\n",
       "  </thead>\n",
       "  <tbody>\n",
       "    <tr>\n",
       "      <th>396</th>\n",
       "      <td>800.0</td>\n",
       "      <td>4.0</td>\n",
       "      <td>1.0</td>\n",
       "      <td>0</td>\n",
       "      <td>0</td>\n",
       "      <td>0</td>\n",
       "      <td>0.985399</td>\n",
       "    </tr>\n",
       "    <tr>\n",
       "      <th>397</th>\n",
       "      <td>800.0</td>\n",
       "      <td>4.0</td>\n",
       "      <td>1.0</td>\n",
       "      <td>1</td>\n",
       "      <td>0</td>\n",
       "      <td>0</td>\n",
       "      <td>0.946509</td>\n",
       "    </tr>\n",
       "    <tr>\n",
       "      <th>398</th>\n",
       "      <td>800.0</td>\n",
       "      <td>4.0</td>\n",
       "      <td>1.0</td>\n",
       "      <td>0</td>\n",
       "      <td>1</td>\n",
       "      <td>0</td>\n",
       "      <td>0.934534</td>\n",
       "    </tr>\n",
       "    <tr>\n",
       "      <th>399</th>\n",
       "      <td>800.0</td>\n",
       "      <td>4.0</td>\n",
       "      <td>1.0</td>\n",
       "      <td>0</td>\n",
       "      <td>0</td>\n",
       "      <td>1</td>\n",
       "      <td>0.582995</td>\n",
       "    </tr>\n",
       "  </tbody>\n",
       "</table>\n",
       "</div>"
      ],
      "text/plain": [
       "       gre  gpa  intercept  prestige_2.0  prestige_3.0  prestige_4.0  \\\n",
       "396  800.0  4.0        1.0             0             0             0   \n",
       "397  800.0  4.0        1.0             1             0             0   \n",
       "398  800.0  4.0        1.0             0             1             0   \n",
       "399  800.0  4.0        1.0             0             0             1   \n",
       "\n",
       "     admit_pred  \n",
       "396    0.985399  \n",
       "397    0.946509  \n",
       "398    0.934534  \n",
       "399    0.582995  "
      ]
     },
     "execution_count": 22,
     "metadata": {},
     "output_type": "execute_result"
    }
   ],
   "source": [
    "combos['admit_pred'] = result.predict(combos[['gre', 'gpa', 'intercept', 'prestige_2.0', 'prestige_3.0', 'prestige_4.0']])\n",
    "#Show last 4 observations\n",
    "len(combos)\n",
    "combos[396:]"
   ]
  },
  {
   "cell_type": "markdown",
   "metadata": {},
   "source": [
    "#### 5.3 Interpret findings for the last 4 observations"
   ]
  },
  {
   "cell_type": "markdown",
   "metadata": {},
   "source": [
    "<b>Answer:</b> When we hold GRE and GPA constant (i.e. at the highest possible values), we can see that there is a large difference in admittance probability between prestige level 4 and the other prestige levels. Even if a student attends a Prestige Level 4 college achieves the maximum level GRE and GPA scores possible, they still only have a 58% predicted probability of being admitted to graduate school, where as similar students (whose only difference is a higher college prestige level) have >90% predicted admittance."
   ]
  },
  {
   "cell_type": "markdown",
   "metadata": {},
   "source": [
    "## Bonus\n",
    "\n",
    "Plot the probability of being admitted into graduate school, stratified by GPA and GRE score."
   ]
  },
  {
   "cell_type": "code",
   "execution_count": 23,
   "metadata": {},
   "outputs": [
    {
     "data": {
      "text/html": [
       "<div>\n",
       "<style scoped>\n",
       "    .dataframe tbody tr th:only-of-type {\n",
       "        vertical-align: middle;\n",
       "    }\n",
       "\n",
       "    .dataframe tbody tr th {\n",
       "        vertical-align: top;\n",
       "    }\n",
       "\n",
       "    .dataframe thead th {\n",
       "        text-align: right;\n",
       "    }\n",
       "</style>\n",
       "<table border=\"1\" class=\"dataframe\">\n",
       "  <thead>\n",
       "    <tr style=\"text-align: right;\">\n",
       "      <th></th>\n",
       "      <th></th>\n",
       "      <th>admit_pred</th>\n",
       "    </tr>\n",
       "    <tr>\n",
       "      <th>gre</th>\n",
       "      <th>prestige</th>\n",
       "      <th></th>\n",
       "    </tr>\n",
       "  </thead>\n",
       "  <tbody>\n",
       "    <tr>\n",
       "      <th rowspan=\"4\" valign=\"top\">220.000000</th>\n",
       "      <th>1.0</th>\n",
       "      <td>0.897874</td>\n",
       "    </tr>\n",
       "    <tr>\n",
       "      <th>2.0</th>\n",
       "      <td>0.704867</td>\n",
       "    </tr>\n",
       "    <tr>\n",
       "      <th>3.0</th>\n",
       "      <td>0.660184</td>\n",
       "    </tr>\n",
       "    <tr>\n",
       "      <th>4.0</th>\n",
       "      <td>0.172354</td>\n",
       "    </tr>\n",
       "    <tr>\n",
       "      <th rowspan=\"4\" valign=\"top\">284.444444</th>\n",
       "      <th>1.0</th>\n",
       "      <td>0.910076</td>\n",
       "    </tr>\n",
       "    <tr>\n",
       "      <th>2.0</th>\n",
       "      <td>0.732708</td>\n",
       "    </tr>\n",
       "    <tr>\n",
       "      <th>3.0</th>\n",
       "      <td>0.690297</td>\n",
       "    </tr>\n",
       "    <tr>\n",
       "      <th>4.0</th>\n",
       "      <td>0.193117</td>\n",
       "    </tr>\n",
       "    <tr>\n",
       "      <th rowspan=\"4\" valign=\"top\">348.888889</th>\n",
       "      <th>1.0</th>\n",
       "      <td>0.920966</td>\n",
       "    </tr>\n",
       "    <tr>\n",
       "      <th>2.0</th>\n",
       "      <td>0.758879</td>\n",
       "    </tr>\n",
       "    <tr>\n",
       "      <th>3.0</th>\n",
       "      <td>0.718934</td>\n",
       "    </tr>\n",
       "    <tr>\n",
       "      <th>4.0</th>\n",
       "      <td>0.215673</td>\n",
       "    </tr>\n",
       "    <tr>\n",
       "      <th rowspan=\"4\" valign=\"top\">413.333333</th>\n",
       "      <th>1.0</th>\n",
       "      <td>0.930652</td>\n",
       "    </tr>\n",
       "    <tr>\n",
       "      <th>2.0</th>\n",
       "      <td>0.783302</td>\n",
       "    </tr>\n",
       "    <tr>\n",
       "      <th>3.0</th>\n",
       "      <td>0.745956</td>\n",
       "    </tr>\n",
       "    <tr>\n",
       "      <th>4.0</th>\n",
       "      <td>0.240018</td>\n",
       "    </tr>\n",
       "    <tr>\n",
       "      <th rowspan=\"4\" valign=\"top\">477.777778</th>\n",
       "      <th>1.0</th>\n",
       "      <td>0.939241</td>\n",
       "    </tr>\n",
       "    <tr>\n",
       "      <th>2.0</th>\n",
       "      <td>0.805936</td>\n",
       "    </tr>\n",
       "    <tr>\n",
       "      <th>3.0</th>\n",
       "      <td>0.771264</td>\n",
       "    </tr>\n",
       "    <tr>\n",
       "      <th>4.0</th>\n",
       "      <td>0.266115</td>\n",
       "    </tr>\n",
       "    <tr>\n",
       "      <th rowspan=\"4\" valign=\"top\">542.222222</th>\n",
       "      <th>1.0</th>\n",
       "      <td>0.946836</td>\n",
       "    </tr>\n",
       "    <tr>\n",
       "      <th>2.0</th>\n",
       "      <td>0.826778</td>\n",
       "    </tr>\n",
       "    <tr>\n",
       "      <th>3.0</th>\n",
       "      <td>0.794798</td>\n",
       "    </tr>\n",
       "    <tr>\n",
       "      <th>4.0</th>\n",
       "      <td>0.293885</td>\n",
       "    </tr>\n",
       "    <tr>\n",
       "      <th rowspan=\"4\" valign=\"top\">606.666667</th>\n",
       "      <th>1.0</th>\n",
       "      <td>0.953536</td>\n",
       "    </tr>\n",
       "    <tr>\n",
       "      <th>2.0</th>\n",
       "      <td>0.845852</td>\n",
       "    </tr>\n",
       "    <tr>\n",
       "      <th>3.0</th>\n",
       "      <td>0.816538</td>\n",
       "    </tr>\n",
       "    <tr>\n",
       "      <th>4.0</th>\n",
       "      <td>0.323213</td>\n",
       "    </tr>\n",
       "    <tr>\n",
       "      <th rowspan=\"4\" valign=\"top\">671.111111</th>\n",
       "      <th>1.0</th>\n",
       "      <td>0.959433</td>\n",
       "    </tr>\n",
       "    <tr>\n",
       "      <th>2.0</th>\n",
       "      <td>0.863211</td>\n",
       "    </tr>\n",
       "    <tr>\n",
       "      <th>3.0</th>\n",
       "      <td>0.836494</td>\n",
       "    </tr>\n",
       "    <tr>\n",
       "      <th>4.0</th>\n",
       "      <td>0.353939</td>\n",
       "    </tr>\n",
       "    <tr>\n",
       "      <th rowspan=\"4\" valign=\"top\">735.555556</th>\n",
       "      <th>1.0</th>\n",
       "      <td>0.964614</td>\n",
       "    </tr>\n",
       "    <tr>\n",
       "      <th>2.0</th>\n",
       "      <td>0.878927</td>\n",
       "    </tr>\n",
       "    <tr>\n",
       "      <th>3.0</th>\n",
       "      <td>0.854707</td>\n",
       "    </tr>\n",
       "    <tr>\n",
       "      <th>4.0</th>\n",
       "      <td>0.385866</td>\n",
       "    </tr>\n",
       "    <tr>\n",
       "      <th rowspan=\"4\" valign=\"top\">800.000000</th>\n",
       "      <th>1.0</th>\n",
       "      <td>0.969158</td>\n",
       "    </tr>\n",
       "    <tr>\n",
       "      <th>2.0</th>\n",
       "      <td>0.893089</td>\n",
       "    </tr>\n",
       "    <tr>\n",
       "      <th>3.0</th>\n",
       "      <td>0.871238</td>\n",
       "    </tr>\n",
       "    <tr>\n",
       "      <th>4.0</th>\n",
       "      <td>0.418761</td>\n",
       "    </tr>\n",
       "  </tbody>\n",
       "</table>\n",
       "</div>"
      ],
      "text/plain": [
       "                     admit_pred\n",
       "gre        prestige            \n",
       "220.000000 1.0         0.897874\n",
       "           2.0         0.704867\n",
       "           3.0         0.660184\n",
       "           4.0         0.172354\n",
       "284.444444 1.0         0.910076\n",
       "           2.0         0.732708\n",
       "           3.0         0.690297\n",
       "           4.0         0.193117\n",
       "348.888889 1.0         0.920966\n",
       "           2.0         0.758879\n",
       "           3.0         0.718934\n",
       "           4.0         0.215673\n",
       "413.333333 1.0         0.930652\n",
       "           2.0         0.783302\n",
       "           3.0         0.745956\n",
       "           4.0         0.240018\n",
       "477.777778 1.0         0.939241\n",
       "           2.0         0.805936\n",
       "           3.0         0.771264\n",
       "           4.0         0.266115\n",
       "542.222222 1.0         0.946836\n",
       "           2.0         0.826778\n",
       "           3.0         0.794798\n",
       "           4.0         0.293885\n",
       "606.666667 1.0         0.953536\n",
       "           2.0         0.845852\n",
       "           3.0         0.816538\n",
       "           4.0         0.323213\n",
       "671.111111 1.0         0.959433\n",
       "           2.0         0.863211\n",
       "           3.0         0.836494\n",
       "           4.0         0.353939\n",
       "735.555556 1.0         0.964614\n",
       "           2.0         0.878927\n",
       "           3.0         0.854707\n",
       "           4.0         0.385866\n",
       "800.000000 1.0         0.969158\n",
       "           2.0         0.893089\n",
       "           3.0         0.871238\n",
       "           4.0         0.418761"
      ]
     },
     "execution_count": 23,
     "metadata": {},
     "output_type": "execute_result"
    },
    {
     "data": {
      "image/png": "[encoded data removed]",
      "text/plain": [
       "<Figure size 432x288 with 1 Axes>"
      ]
     },
     "metadata": {},
     "output_type": "display_data"
    }
   ],
   "source": [
    "#Reconstitute table with Prestige column for plotting purposes\n",
    "\n",
    "# enumerate all possibilities\n",
    "combos = pd.DataFrame(cartesian([gres, gpas, [1, 2, 3, 4], [1.]]))\n",
    "# recreate the dummy variables\n",
    "combos.columns = ['gre', 'gpa', 'prestige', 'intercept']\n",
    "dummy_ranks = pd.get_dummies(combos['prestige'], prefix='prestige', drop_first=True)\n",
    "dummy_ranks.columns = ['prestige_2.0', 'prestige_3.0', 'prestige_4.0']\n",
    "\n",
    "# keep only what we need for making predictions\n",
    "cols_to_keep = ['gre', 'gpa', 'prestige', 'intercept']\n",
    "combos = combos[cols_to_keep].join(dummy_ranks)\n",
    "combos.head()\n",
    "\n",
    "# make predictions on the enumerated dataset, excluding prestige columns for prediction purposes. Drop dummies\n",
    "combos['admit_pred'] = result.predict(combos[['gre', 'gpa', 'intercept','prestige_2.0', 'prestige_3.0', 'prestige_4.0']])\n",
    "combos.drop(['prestige_2.0', 'prestige_3.0', 'prestige_4.0'], axis=1, inplace=True)\n",
    "\n",
    "#Use a Pivot to average out GRE & GPA scores\n",
    "x = pd.pivot_table(combos, values=['admit_pred'], index=['gre', 'prestige'], aggfunc=np.mean)\n",
    "x.plot()\n",
    "x\n",
    "\n",
    "#Stupid Python can't read the aggregate levels\n",
    "\n",
    "#pd.pivot_table(combos, values=['admit_pred'], index=['gpa', 'prestige'], aggfunc=np.mean).plot()"
   ]
  },
  {
   "cell_type": "code",
   "execution_count": null,
   "metadata": {},
   "outputs": [],
   "source": []
  }
 ],
 "metadata": {
  "kernelspec": {
   "display_name": "Python [default]",
   "language": "python",
   "name": "python2"
  },
  "language_info": {
   "codemirror_mode": {
    "name": "ipython",
    "version": 2
   },
   "file_extension": ".py",
   "mimetype": "text/x-python",
   "name": "python",
   "nbconvert_exporter": "python",
   "pygments_lexer": "ipython2",
   "version": "2.7.14"
  }
 },
 "nbformat": 4,
 "nbformat_minor": 1
}
